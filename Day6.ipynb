{
 "cells": [
  {
   "cell_type": "code",
   "execution_count": 2,
   "metadata": {},
   "outputs": [],
   "source": [
    "# create a dictionary of student names and gpas\n",
    "students = {'Tom': 9, 'John': 2, 'Mary': 7, 'Mark': 10, 'Steve': 8, 'Joe': 4, \n",
    "            'Sue': 3, 'Sam': 6, 'Jane': 5, 'Paul': 9, 'Liz': 8, 'Ann': 10}"
   ]
  },
  {
   "cell_type": "code",
   "execution_count": 8,
   "metadata": {},
   "outputs": [
    {
     "name": "stdout",
     "output_type": "stream",
     "text": [
      "Distinct students: Tom Mark Paul Ann \n",
      "Number of distinctions: 4\n"
     ]
    }
   ],
   "source": [
    "# print distinct students\n",
    "print('Distinct students:', end=' ')\n",
    "nDistinctions = 0\n",
    "for student, gpa in students.items():\n",
    "    if gpa > 8:\n",
    "        nDistinctions += 1\n",
    "        print(student, end=' ')\n",
    "print('\\nNumber of distinctions:', nDistinctions)"
   ]
  },
  {
   "cell_type": "code",
   "execution_count": 11,
   "metadata": {},
   "outputs": [
    {
     "name": "stdout",
     "output_type": "stream",
     "text": [
      "Distinctions: ['Tom', 'Mark', 'Paul', 'Ann']\n",
      "Number of distinctions: 4\n"
     ]
    }
   ],
   "source": [
    "distinctions = [student for student, gpa in students.items() if gpa > 8]\n",
    "print('Distinctions:', distinctions)\n",
    "print('Number of distinctions:', len(distinctions))"
   ]
  },
  {
   "cell_type": "code",
   "execution_count": 6,
   "metadata": {},
   "outputs": [
    {
     "name": "stdout",
     "output_type": "stream",
     "text": [
      "Merit students: Mary Steve Liz "
     ]
    }
   ],
   "source": [
    "print('Merit students:', end=' ')\n",
    "for student, gpa in students.items():\n",
    "    if 6.5 < gpa <= 8:\n",
    "        print(student, end=' ')"
   ]
  },
  {
   "cell_type": "code",
   "execution_count": 10,
   "metadata": {},
   "outputs": [],
   "source": [
    "merits = [student for student, gpa in students.items() if 6.5 < gpa <= 8]\n",
    "passeds = [student for student, gpa in students.items() if 4 <= gpa <= 6.5]\n",
    "faileds = [student for student, gpa in students.items() if gpa < 4]"
   ]
  },
  {
   "cell_type": "code",
   "execution_count": 18,
   "metadata": {},
   "outputs": [
    {
     "name": "stdout",
     "output_type": "stream",
     "text": [
      "Pass rate: 83.33%\n",
      "Success semester\n"
     ]
    }
   ],
   "source": [
    "pass_rate = 100 * (1 - len(faileds) / len(students))\n",
    "print('Pass rate: {0:.2f}%'.format(pass_rate))\n",
    "print('Success semester' if pass_rate > 70 else 'Fail semester')"
   ]
  },
  {
   "cell_type": "code",
   "execution_count": 19,
   "metadata": {},
   "outputs": [],
   "source": [
    "def add(a, b):\n",
    "    c = a + b\n",
    "    return c"
   ]
  },
  {
   "cell_type": "code",
   "execution_count": 23,
   "metadata": {},
   "outputs": [
    {
     "name": "stdout",
     "output_type": "stream",
     "text": [
      "9\n",
      "7.5\n",
      "[1, 2, 3, 4, 5, 6]\n",
      "HelloWorld\n"
     ]
    }
   ],
   "source": [
    "print(add(4, 5))\n",
    "print(add(4.5, 3.0))\n",
    "a = [1, 2, 3]\n",
    "b = [4, 5, 6]\n",
    "print(add(a, b))\n",
    "print(add('Hello', 'World'))"
   ]
  },
  {
   "cell_type": "code",
   "execution_count": null,
   "metadata": {},
   "outputs": [],
   "source": [
    "print(add('4', 5))"
   ]
  },
  {
   "cell_type": "code",
   "execution_count": 25,
   "metadata": {},
   "outputs": [
    {
     "name": "stdout",
     "output_type": "stream",
     "text": [
      "[6 7 8]\n"
     ]
    }
   ],
   "source": [
    "import numpy as np\n",
    "a = np.array([1, 2, 3])\n",
    "print(add(a, 5))"
   ]
  },
  {
   "cell_type": "code",
   "execution_count": null,
   "metadata": {},
   "outputs": [],
   "source": [
    "a = [1, 2, 3]\n",
    "print(add(a, 5))"
   ]
  },
  {
   "cell_type": "code",
   "execution_count": 29,
   "metadata": {},
   "outputs": [],
   "source": [
    "def change_data(number, msg, alist):\n",
    "    number = number + 10\n",
    "    msg = msg + ' world'\n",
    "    alist[0] = 'Hello'\n",
    "    print('In change_data:', number, msg, alist, sep='\\n')"
   ]
  },
  {
   "cell_type": "code",
   "execution_count": 31,
   "metadata": {},
   "outputs": [
    {
     "name": "stdout",
     "output_type": "stream",
     "text": [
      "In change_data:\n",
      "15\n",
      "Hello world\n",
      "['Hello', 2, 3]\n",
      "In main script:\n",
      "5\n",
      "Hello\n",
      "['Hello', 2, 3]\n"
     ]
    }
   ],
   "source": [
    "n = 5\n",
    "s = 'Hello'\n",
    "li = [1, 2, 3]\n",
    "change_data(n, s, li)\n",
    "print('In main script:', n, s, li, sep='\\n')"
   ]
  },
  {
   "cell_type": "code",
   "execution_count": 32,
   "metadata": {},
   "outputs": [],
   "source": [
    "def swap(a, b):\n",
    "    c = a\n",
    "    a = b\n",
    "    b = c\n",
    "    print('In swap:', a, b)"
   ]
  },
  {
   "cell_type": "code",
   "execution_count": 34,
   "metadata": {},
   "outputs": [
    {
     "name": "stdout",
     "output_type": "stream",
     "text": [
      "In swap: 20 10\n",
      "In main script: 10 20\n"
     ]
    }
   ],
   "source": [
    "a = 10\n",
    "b = 20\n",
    "swap(a, b)\n",
    "print('In main script:', a, b)"
   ]
  },
  {
   "cell_type": "code",
   "execution_count": 36,
   "metadata": {},
   "outputs": [],
   "source": [
    "def swap(a, b):\n",
    "    c = a\n",
    "    a = b\n",
    "    b = c\n",
    "    print('In swap:', a, b)\n",
    "    return a, b"
   ]
  },
  {
   "cell_type": "code",
   "execution_count": 37,
   "metadata": {},
   "outputs": [
    {
     "name": "stdout",
     "output_type": "stream",
     "text": [
      "In swap: 20 10\n",
      "In main script: 20 10\n"
     ]
    }
   ],
   "source": [
    "a = 10\n",
    "b = 20\n",
    "a, b = swap(a, b)\n",
    "print('In main script:', a, b)"
   ]
  }
 ],
 "metadata": {
  "interpreter": {
   "hash": "397704579725e15f5c7cb49fe5f0341eb7531c82d19f2c29d197e8b64ab5776b"
  },
  "kernelspec": {
   "display_name": "Python 3.9.1 64-bit",
   "language": "python",
   "name": "python3"
  },
  "language_info": {
   "codemirror_mode": {
    "name": "ipython",
    "version": 3
   },
   "file_extension": ".py",
   "mimetype": "text/x-python",
   "name": "python",
   "nbconvert_exporter": "python",
   "pygments_lexer": "ipython3",
   "version": "3.9.12"
  },
  "orig_nbformat": 4
 },
 "nbformat": 4,
 "nbformat_minor": 2
}
