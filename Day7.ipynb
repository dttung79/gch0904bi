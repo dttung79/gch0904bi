{
 "cells": [
  {
   "cell_type": "code",
   "execution_count": 4,
   "metadata": {},
   "outputs": [],
   "source": [
    "def myfunc(x, n=10, s='hello'):\n",
    "    print('x =', x)\n",
    "    print('n =', n)\n",
    "    print('s =', s)\n",
    "    print('-' * 20)"
   ]
  },
  {
   "cell_type": "code",
   "execution_count": null,
   "metadata": {},
   "outputs": [],
   "source": [
    "myfunc(5) # x = 5, n = 10, s = hello\n",
    "myfunc(5, 'hello') # x = 5, n = hello, s = hello\n",
    "myfunc('hello python') # x = hello python, n = 10, s = hello\n",
    "myfunc(19.5, s='hello kitty') # x = 19.5, n = 10, s = hello kitty\n",
    "myfunc('hello', 10, 5) # x = hello, n = 10, s = 5"
   ]
  },
  {
   "cell_type": "code",
   "execution_count": 28,
   "metadata": {},
   "outputs": [],
   "source": [
    "def my_print(*items):\n",
    "    for i in range(len(items)):\n",
    "        print(items[i])"
   ]
  },
  {
   "cell_type": "code",
   "execution_count": 29,
   "metadata": {},
   "outputs": [
    {
     "name": "stdout",
     "output_type": "stream",
     "text": [
      "hello\n",
      "python\n",
      "world\n"
     ]
    }
   ],
   "source": [
    "my_print('hello', 'python', 'world')"
   ]
  },
  {
   "cell_type": "code",
   "execution_count": 30,
   "metadata": {},
   "outputs": [
    {
     "name": "stdout",
     "output_type": "stream",
     "text": [
      "4\n"
     ]
    }
   ],
   "source": [
    "my_print(4)"
   ]
  },
  {
   "cell_type": "code",
   "execution_count": 35,
   "metadata": {},
   "outputs": [],
   "source": [
    "def my_count(x, *items):\n",
    "    # count = 0\n",
    "    # for i in items:\n",
    "    #     if i == x:\n",
    "    #         count += 1\n",
    "    # return count\n",
    "    return len([i for i in items if i == x])"
   ]
  },
  {
   "cell_type": "code",
   "execution_count": 37,
   "metadata": {},
   "outputs": [
    {
     "name": "stdout",
     "output_type": "stream",
     "text": [
      "3\n"
     ]
    }
   ],
   "source": [
    "print(my_count(5, 1, 2, 5, 4, 5, 6, 7, 8, 9, 5))"
   ]
  },
  {
   "cell_type": "code",
   "execution_count": 38,
   "metadata": {},
   "outputs": [],
   "source": [
    "def min_max(items):\n",
    "    return min(items), max(items)"
   ]
  },
  {
   "cell_type": "code",
   "execution_count": 39,
   "metadata": {},
   "outputs": [
    {
     "name": "stdout",
     "output_type": "stream",
     "text": [
      "[63, 13, 96, 6, 32, 45, 53, 1, 12, 67]\n"
     ]
    }
   ],
   "source": [
    "import random as rd\n",
    "numbers = [rd.randint(1, 100) for i in range(10)]\n",
    "print(numbers)"
   ]
  },
  {
   "cell_type": "code",
   "execution_count": 40,
   "metadata": {},
   "outputs": [
    {
     "name": "stdout",
     "output_type": "stream",
     "text": [
      "min = 1 max = 96\n"
     ]
    }
   ],
   "source": [
    "a, b = min_max(numbers)\n",
    "print('min =', a, 'max =', b)"
   ]
  },
  {
   "cell_type": "code",
   "execution_count": 41,
   "metadata": {},
   "outputs": [
    {
     "name": "stdout",
     "output_type": "stream",
     "text": [
      "(1, 96)\n"
     ]
    }
   ],
   "source": [
    "a = min_max(numbers)\n",
    "print(a)"
   ]
  },
  {
   "cell_type": "code",
   "execution_count": 42,
   "metadata": {},
   "outputs": [
    {
     "name": "stdout",
     "output_type": "stream",
     "text": [
      "min = 1\n"
     ]
    }
   ],
   "source": [
    "a, _ = min_max(numbers)\n",
    "print('min =', a)"
   ]
  },
  {
   "cell_type": "code",
   "execution_count": 43,
   "metadata": {},
   "outputs": [
    {
     "name": "stdout",
     "output_type": "stream",
     "text": [
      "max = 96\n"
     ]
    }
   ],
   "source": [
    "_, b = min_max(numbers)\n",
    "print('max =', b)"
   ]
  },
  {
   "cell_type": "code",
   "execution_count": 44,
   "metadata": {},
   "outputs": [],
   "source": [
    "# Exercise: write a function that solve quadratic equation\n",
    "# inputs: a, b, c\n",
    "# output: (x1, x2)\n",
    "def solve_quad(a, b, c):\n",
    "    if a == 0:\n",
    "        return None\n",
    "    delta = b ** 2 - 4 * a * c\n",
    "    if delta < 0:\n",
    "        return None\n",
    "    if delta == 0:\n",
    "        return -b / (2 * a)\n",
    "    delta_sqr = delta ** 0.5\n",
    "    return (-b + delta_sqr) / (2 * a), (-b - delta_sqr) / (2 * a)"
   ]
  },
  {
   "cell_type": "code",
   "execution_count": 48,
   "metadata": {},
   "outputs": [
    {
     "name": "stdout",
     "output_type": "stream",
     "text": [
      "Root:  (-0.3819660112501051, -2.618033988749895)\n"
     ]
    }
   ],
   "source": [
    "a = int(input('a = '))\n",
    "b = int(input('b = '))\n",
    "c = int(input('c = '))\n",
    "x = solve_quad(a, b, c)\n",
    "if x is None:\n",
    "    print('No solution')\n",
    "else:\n",
    "    print('Root: ', x)"
   ]
  },
  {
   "cell_type": "code",
   "execution_count": null,
   "metadata": {},
   "outputs": [],
   "source": [
    "def normal_max(items):\n",
    "    m = items[0]\n",
    "    for i in items:\n",
    "        if i > m:\n",
    "            m = i\n",
    "    return m"
   ]
  },
  {
   "cell_type": "code",
   "execution_count": 52,
   "metadata": {},
   "outputs": [],
   "source": [
    "def superior(items, compare):\n",
    "    m = items[0]\n",
    "    for i in items:\n",
    "        if compare(i, m):\n",
    "            m = i\n",
    "    return m\n",
    "\n",
    "def less_than(x, y):\n",
    "    return x < y\n",
    "\n",
    "def greater_than(x, y):\n",
    "    return x > y"
   ]
  },
  {
   "cell_type": "code",
   "execution_count": 50,
   "metadata": {},
   "outputs": [
    {
     "name": "stdout",
     "output_type": "stream",
     "text": [
      "[63, 13, 96, 6, 32, 45, 53, 1, 12, 67]\n"
     ]
    }
   ],
   "source": [
    "print(numbers)"
   ]
  },
  {
   "cell_type": "code",
   "execution_count": 53,
   "metadata": {},
   "outputs": [
    {
     "name": "stdout",
     "output_type": "stream",
     "text": [
      "Min numbers: 1\n",
      "Max numbers: 96\n"
     ]
    }
   ],
   "source": [
    "print('Min numbers:', superior(numbers, less_than))\n",
    "print('Max numbers:', superior(numbers, greater_than))"
   ]
  },
  {
   "cell_type": "code",
   "execution_count": 54,
   "metadata": {},
   "outputs": [
    {
     "name": "stdout",
     "output_type": "stream",
     "text": [
      "John Murray\n",
      "Paul Smith\n"
     ]
    }
   ],
   "source": [
    "names = ['John Murray', 'Paul Smith', 'Lance Amstrong', 'Mike Tyson', 'Neil Brown']\n",
    "print(superior(names, less_than))\n",
    "print(superior(names, greater_than))"
   ]
  },
  {
   "cell_type": "code",
   "execution_count": 55,
   "metadata": {},
   "outputs": [],
   "source": [
    "def identity(x):\n",
    "    return x\n",
    "\n",
    "def superior(items, compare, key=identity):\n",
    "    m = items[0]\n",
    "    for i in items:\n",
    "        if compare(key(i), key(m)):\n",
    "            m = i\n",
    "    return m"
   ]
  },
  {
   "cell_type": "code",
   "execution_count": 58,
   "metadata": {},
   "outputs": [
    {
     "name": "stdout",
     "output_type": "stream",
     "text": [
      "Min/max by alphabet\n",
      "John Murray\n",
      "Paul Smith\n",
      "\n",
      "Min/max by length\n",
      "Paul Smith\n",
      "Lance Amstrong\n"
     ]
    }
   ],
   "source": [
    "print('Min/max by alphabet')\n",
    "print(superior(names, less_than))\n",
    "print(superior(names, greater_than))\n",
    "print('\\nMin/max by length')\n",
    "print(superior(names, less_than, key=len))\n",
    "print(superior(names, greater_than, key=len))"
   ]
  },
  {
   "cell_type": "code",
   "execution_count": 60,
   "metadata": {},
   "outputs": [
    {
     "name": "stdout",
     "output_type": "stream",
     "text": [
      "[21, -38, -95, 99, -67, 24, -99, -28, -90, -8]\n"
     ]
    }
   ],
   "source": [
    "numbers = [rd.randint(-100, 100) for i in range(10)]\n",
    "print(numbers)\n",
    "# find min absolute value, max absolute value\n",
    "def absolute(n):\n",
    "    return n if n > 0 else -n"
   ]
  },
  {
   "cell_type": "code",
   "execution_count": 61,
   "metadata": {},
   "outputs": [
    {
     "name": "stdout",
     "output_type": "stream",
     "text": [
      "Min by absolute value: -8\n",
      "Max by absolute value: 99\n"
     ]
    }
   ],
   "source": [
    "print('Min by absolute value:', superior(numbers, less_than, key=absolute))\n",
    "print('Max by absolute value:', superior(numbers, greater_than, key=absolute))"
   ]
  },
  {
   "cell_type": "code",
   "execution_count": null,
   "metadata": {},
   "outputs": [],
   "source": [
    "# tìm số có chữ số hàng đơn vị là nhỏ nhất / lớn nhất\n",
    "# tìm tên mà có nhiều / ít nguyên âm nhất\n",
    "# tìm số mà chia được cho 2 nhiều lần nhất"
   ]
  }
 ],
 "metadata": {
  "interpreter": {
   "hash": "397704579725e15f5c7cb49fe5f0341eb7531c82d19f2c29d197e8b64ab5776b"
  },
  "kernelspec": {
   "display_name": "Python 3.9.1 64-bit",
   "language": "python",
   "name": "python3"
  },
  "language_info": {
   "codemirror_mode": {
    "name": "ipython",
    "version": 3
   },
   "file_extension": ".py",
   "mimetype": "text/x-python",
   "name": "python",
   "nbconvert_exporter": "python",
   "pygments_lexer": "ipython3",
   "version": "3.9.12"
  },
  "orig_nbformat": 4
 },
 "nbformat": 4,
 "nbformat_minor": 2
}
