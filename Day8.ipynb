{
 "cells": [
  {
   "cell_type": "code",
   "execution_count": 3,
   "metadata": {},
   "outputs": [],
   "source": [
    "def superior(items, compare, key=lambda x: x):\n",
    "    m = items[0]\n",
    "    for i in items:\n",
    "        if compare(key(i), key(m)):\n",
    "            m = i\n",
    "    return m"
   ]
  },
  {
   "cell_type": "code",
   "execution_count": 1,
   "metadata": {},
   "outputs": [
    {
     "name": "stdout",
     "output_type": "stream",
     "text": [
      "[74, 67, -86, -5, 74, 85, -37, -29, -57, 94, 69, -18, 16, -14, -100, 79, -78, -1, -31, -92]\n"
     ]
    }
   ],
   "source": [
    "import random as rd\n",
    "# Generate a random list of numbers\n",
    "numbers = [rd.randint(-100, 100) for i in range(20)]\n",
    "print(numbers)"
   ]
  },
  {
   "cell_type": "code",
   "execution_count": 4,
   "metadata": {},
   "outputs": [
    {
     "name": "stdout",
     "output_type": "stream",
     "text": [
      "94\n",
      "-100\n"
     ]
    }
   ],
   "source": [
    "# Find maximum number\n",
    "maximum = superior(numbers, lambda x, y: x > y)\n",
    "print(maximum)\n",
    "# Find minimum number\n",
    "minimum = superior(numbers, lambda x, y: x < y)\n",
    "print(minimum)"
   ]
  },
  {
   "cell_type": "code",
   "execution_count": 6,
   "metadata": {},
   "outputs": [
    {
     "name": "stdout",
     "output_type": "stream",
     "text": [
      "-100\n",
      "-1\n"
     ]
    }
   ],
   "source": [
    "# Find maximum absolute number\n",
    "max_absolute = superior(numbers, lambda x, y: x > y, key=lambda x: x if x > 0 else -x)\n",
    "print(max_absolute)\n",
    "min_absolute = superior(numbers, lambda x, y: x < y, key=lambda x: x if x > 0 else -x)\n",
    "print(min_absolute)"
   ]
  },
  {
   "cell_type": "code",
   "execution_count": 12,
   "metadata": {},
   "outputs": [
    {
     "name": "stdout",
     "output_type": "stream",
     "text": [
      "First name in alphabetical order: Anna\n",
      "Last name in alphabetical order: Minie\n",
      "First name in reverse alphabetical order: Anna\n",
      "Last name in reverse alphabetical order: Mai\n",
      "Sorted by alphabetical order: ['Anna', 'Anne', 'Annie', 'Lanna', 'Lanne', 'Lannie', 'Mai', 'Minie']\n",
      "Sorted by reverse alphabetical order: ['Anna', 'Lanna', 'Minie', 'Annie', 'Lannie', 'Anne', 'Lanne', 'Mai']\n"
     ]
    }
   ],
   "source": [
    "names = ['Anna', 'Anne', 'Annie', 'Lanna', 'Lanne', 'Lannie', 'Minie', 'Mai']\n",
    "# Find first name in alphabetical order\n",
    "print('First name in alphabetical order:', superior(names, lambda x, y: x < y))\n",
    "# Find last name in alphabetical order\n",
    "print('Last name in alphabetical order:', superior(names, lambda x, y: x > y))\n",
    "# Find first name in reverse alphabetical order\n",
    "print('First name in reverse alphabetical order:', superior(names, lambda x, y: x < y, key=lambda x: x[::-1]))\n",
    "# Find last name in reverse alphabetical order\n",
    "print('Last name in reverse alphabetical order:', superior(names, lambda x, y: x > y, key=lambda x: x[::-1]))\n",
    "# Sort by alphabetical order\n",
    "print('Sorted by alphabetical order:', sorted(names))\n",
    "# Sort by reverse alphabetical order\n",
    "print('Sorted by reverse alphabetical order:', sorted(names, key=lambda x: x[::-1]))"
   ]
  },
  {
   "cell_type": "code",
   "execution_count": 15,
   "metadata": {},
   "outputs": [
    {
     "name": "stdout",
     "output_type": "stream",
     "text": [
      "[74, 67, -86, -5, 74, 85, -37, -29, -57, 94, 69, -18, 16, -14, -100, 79, -78, -1, -31, -92]\n",
      "[74, 67, 74, 85, 94, 69, 16, 79]\n",
      "[74, 67, 74, 85, 94, 69, 16, 79]\n"
     ]
    }
   ],
   "source": [
    "print(numbers)\n",
    "# Find positive numbers using list comprehension\n",
    "positives = [n for n in numbers if n > 0]\n",
    "print(positives)\n",
    "# Find positive numbers using filter & lambda\n",
    "positives = list(filter(lambda x: x>0, numbers))\n",
    "print(positives)"
   ]
  },
  {
   "cell_type": "code",
   "execution_count": 17,
   "metadata": {},
   "outputs": [
    {
     "name": "stdout",
     "output_type": "stream",
     "text": [
      "Sum of positive numbers: 558\n",
      "Sum of positive numbers: 558\n"
     ]
    }
   ],
   "source": [
    "# Calculate the sum of positive numbers using list comprehension\n",
    "print('Sum of positive numbers:', sum([n for n in numbers if n > 0]))\n",
    "# Calculate the sum of positive numbers using filter & lambda\n",
    "print('Sum of positive numbers:', sum(filter(lambda x: x>0, numbers)))"
   ]
  },
  {
   "cell_type": "code",
   "execution_count": null,
   "metadata": {},
   "outputs": [],
   "source": [
    "# find even numbers using list comprehension\n",
    "evens = [n for n in numbers if n % 2 == 0]\n",
    "# find even numbers using filter & lambda\n",
    "evens = list(filter(lambda x: x % 2 == 0, numbers))\n",
    "# find min even numbers using list comprehension\n",
    "min_even = min([n for n in numbers if n % 2 == 0])\n",
    "# find min even numbers using filter & lambda\n",
    "min_even = min(filter(lambda x: x % 2 == 0, numbers))"
   ]
  },
  {
   "cell_type": "code",
   "execution_count": 20,
   "metadata": {},
   "outputs": [
    {
     "name": "stdout",
     "output_type": "stream",
     "text": [
      "['John Denver', 'Nick Carter', 'Michael Jordan', 'Kobe Bryant', 'Lebron James', 'Dwayne Wade', 'Lisa Taylor', 'Michael Phelps']\n"
     ]
    }
   ],
   "source": [
    "names = ['John Denver', 'Nick Carter', 'Michael Jordan', 'Kobe Bryant', 'Lebron James', \n",
    "        'Dwayne Wade', 'Lisa Taylor', 'Michael Phelps']\n",
    "print(names)"
   ]
  },
  {
   "cell_type": "code",
   "execution_count": 21,
   "metadata": {},
   "outputs": [
    {
     "name": "stdout",
     "output_type": "stream",
     "text": [
      "Names that have character 'o' in it: ['John Denver', 'Michael Jordan', 'Kobe Bryant', 'Lebron James', 'Lisa Taylor']\n"
     ]
    }
   ],
   "source": [
    "# Find name that has character 'o' in it\n",
    "print('Names that have character \\'o\\' in it:', list(filter(lambda x: 'o' in x, names)))"
   ]
  },
  {
   "cell_type": "code",
   "execution_count": 22,
   "metadata": {},
   "outputs": [
    {
     "name": "stdout",
     "output_type": "stream",
     "text": [
      "[2, 4, 6, 8]\n"
     ]
    }
   ],
   "source": [
    "numbers = [1, 2, 3, 4]\n",
    "print(list(map(lambda x: x*2, numbers)))"
   ]
  },
  {
   "cell_type": "code",
   "execution_count": 23,
   "metadata": {},
   "outputs": [
    {
     "name": "stdout",
     "output_type": "stream",
     "text": [
      "Length of longest name: 14\n"
     ]
    }
   ],
   "source": [
    "# Find length of longest name\n",
    "print('Length of longest name:', max(map(lambda x: len(x), names)))"
   ]
  },
  {
   "cell_type": "code",
   "execution_count": 24,
   "metadata": {},
   "outputs": [
    {
     "name": "stdout",
     "output_type": "stream",
     "text": [
      "[23000000, 46000000, 34500000, 41400000]\n"
     ]
    }
   ],
   "source": [
    "salary_in_dollars = [1000, 2000, 1500, 1800]\n",
    "# convert to salary in VND\n",
    "salary_in_vnd = list(map(lambda x: x*23000, salary_in_dollars))\n",
    "print(salary_in_vnd)"
   ]
  }
 ],
 "metadata": {
  "interpreter": {
   "hash": "397704579725e15f5c7cb49fe5f0341eb7531c82d19f2c29d197e8b64ab5776b"
  },
  "kernelspec": {
   "display_name": "Python 3.9.1 64-bit",
   "language": "python",
   "name": "python3"
  },
  "language_info": {
   "codemirror_mode": {
    "name": "ipython",
    "version": 3
   },
   "file_extension": ".py",
   "mimetype": "text/x-python",
   "name": "python",
   "nbconvert_exporter": "python",
   "pygments_lexer": "ipython3",
   "version": "3.9.12"
  },
  "orig_nbformat": 4
 },
 "nbformat": 4,
 "nbformat_minor": 2
}
