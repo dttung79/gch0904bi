{
 "cells": [
  {
   "cell_type": "code",
   "execution_count": 1,
   "metadata": {},
   "outputs": [],
   "source": [
    "students = {} # empty dictionary"
   ]
  },
  {
   "cell_type": "code",
   "execution_count": 2,
   "metadata": {},
   "outputs": [],
   "source": [
    "for i in range(4):\n",
    "    name = input(\"Enter name: \")\n",
    "    gpa = int(input(\"Enter gpa: \"))\n",
    "    if name not in students:\n",
    "        students[name] = gpa\n",
    "    else:\n",
    "        print(\"Name already exists\")"
   ]
  },
  {
   "cell_type": "code",
   "execution_count": 3,
   "metadata": {},
   "outputs": [
    {
     "name": "stdout",
     "output_type": "stream",
     "text": [
      "{'John': 7, 'Paul': 9, 'Mike': 3, 'Linda': 8}\n"
     ]
    }
   ],
   "source": [
    "print(students)"
   ]
  },
  {
   "cell_type": "code",
   "execution_count": 6,
   "metadata": {},
   "outputs": [
    {
     "name": "stdout",
     "output_type": "stream",
     "text": [
      "Best student: Paul\n",
      "Worst student: Mike\n"
     ]
    }
   ],
   "source": [
    "print('Best student:', max(students, key=students.get))\n",
    "print('Worst student:', min(students, key=students.get))"
   ]
  },
  {
   "cell_type": "code",
   "execution_count": 8,
   "metadata": {},
   "outputs": [
    {
     "name": "stdout",
     "output_type": "stream",
     "text": [
      "Mean GPA: 6.75\n"
     ]
    }
   ],
   "source": [
    "gpas = students.values()\n",
    "mean_gpa = sum(gpas) / len(gpas)\n",
    "print('Mean GPA:', mean_gpa)"
   ]
  },
  {
   "cell_type": "code",
   "execution_count": 10,
   "metadata": {},
   "outputs": [
    {
     "name": "stdout",
     "output_type": "stream",
     "text": [
      "Student not found\n"
     ]
    }
   ],
   "source": [
    "name = input(\"Enter student name: \")\n",
    "if name not in students:\n",
    "    print(\"Student not found\")  \n",
    "else:\n",
    "    print(\"GPA:\", students[name])    "
   ]
  },
  {
   "cell_type": "code",
   "execution_count": 12,
   "metadata": {},
   "outputs": [
    {
     "name": "stdout",
     "output_type": "stream",
     "text": [
      "Student not found\n"
     ]
    }
   ],
   "source": [
    "name = input('Enter student name to update: ')\n",
    "if name not in students:\n",
    "    print(\"Student not found\")\n",
    "else:    \n",
    "    gpa = int(input('Enter new gpa: '))\n",
    "    students[name] = gpa\n",
    "    print('GPA updated')"
   ]
  },
  {
   "cell_type": "code",
   "execution_count": 14,
   "metadata": {},
   "outputs": [
    {
     "name": "stdout",
     "output_type": "stream",
     "text": [
      "Student Linda deleted with gpa 8\n"
     ]
    }
   ],
   "source": [
    "name = input('Enter student name to delete: ')\n",
    "if name not in students:\n",
    "    print(\"Student not found\")\n",
    "else:\n",
    "    # students.pop(name) # del students[name]\n",
    "    # print('Student deleted')\n",
    "    gpa = students.pop(name)\n",
    "    print('Student {} deleted with gpa {}'.format(name, gpa))"
   ]
  },
  {
   "cell_type": "code",
   "execution_count": 19,
   "metadata": {},
   "outputs": [
    {
     "name": "stdout",
     "output_type": "stream",
     "text": [
      "* \n",
      "* * \n",
      "* * * \n",
      "* * * * \n",
      "* * * * * \n"
     ]
    }
   ],
   "source": [
    "# print triangle of asterisks\n",
    "n = int(input('Enter number of rows: '))\n",
    "for i in range(n):\n",
    "    print('* ' * (i + 1))"
   ]
  },
  {
   "cell_type": "code",
   "execution_count": null,
   "metadata": {},
   "outputs": [],
   "source": [
    "names = ['Alice', 'Bob', 'Charlie', 'David', 'Eve']\n",
    "for n in names:\n",
    "    print(n)"
   ]
  },
  {
   "cell_type": "code",
   "execution_count": null,
   "metadata": {},
   "outputs": [],
   "source": [
    "for i, n in enumerate(names):\n",
    "    print(i + 1, n)"
   ]
  },
  {
   "cell_type": "code",
   "execution_count": null,
   "metadata": {},
   "outputs": [],
   "source": [
    "for i in range(len(names)):\n",
    "    print(i + 1, names[i])"
   ]
  },
  {
   "cell_type": "code",
   "execution_count": null,
   "metadata": {},
   "outputs": [],
   "source": [
    "students = {'John': 7, 'Paul': 9, 'Mike': 3, 'Linda': 8, 'Alice': 9, 'Bob': 6}\n",
    "for student, gpa in students.items():\n",
    "    print(student, gpa)"
   ]
  },
  {
   "cell_type": "code",
   "execution_count": null,
   "metadata": {},
   "outputs": [],
   "source": [
    "print(names)\n",
    "# Find names that start with vowels\n",
    "for n in names:\n",
    "    if n[0] in 'AIEOU':\n",
    "        print(n)"
   ]
  },
  {
   "cell_type": "code",
   "execution_count": 31,
   "metadata": {},
   "outputs": [
    {
     "name": "stdout",
     "output_type": "stream",
     "text": [
      "{'John': 7, 'Paul': 9, 'Mike': 3, 'Linda': 8, 'Alice': 9, 'Bob': 6}\n",
      "John 7\n",
      "Paul 9\n",
      "Linda 8\n",
      "Alice 9\n"
     ]
    }
   ],
   "source": [
    "print(students)\n",
    "# Find student who passed exam (gpa > 6)\n",
    "for student, gpa in students.items():\n",
    "    if gpa > 6:\n",
    "        print(student, gpa)"
   ]
  },
  {
   "cell_type": "code",
   "execution_count": 33,
   "metadata": {},
   "outputs": [
    {
     "name": "stdout",
     "output_type": "stream",
     "text": [
      "['Alice', 'Bob', 'Charlie', 'David', 'Eve']\n",
      "[5, 3, 7, 5, 3]\n"
     ]
    }
   ],
   "source": [
    "print(names)\n",
    "# List comprehension\n",
    "print([len(n) for n in names])"
   ]
  },
  {
   "cell_type": "code",
   "execution_count": 34,
   "metadata": {},
   "outputs": [
    {
     "name": "stdout",
     "output_type": "stream",
     "text": [
      "Names starts with vowels: ['Alice', 'Eve']\n",
      "Names starts with consonants: ['Bob', 'Charlie', 'David']\n"
     ]
    }
   ],
   "source": [
    "# Get name starts with vowels\n",
    "vowels_name = [n for n in names if n[0] in 'AIEOU']\n",
    "# Get name starts with consonants\n",
    "consonants_name = [n for n in names if n[0] not in 'AIEOU']\n",
    "print('Names starts with vowels:', vowels_name)\n",
    "print('Names starts with consonants:', consonants_name)"
   ]
  },
  {
   "cell_type": "code",
   "execution_count": 35,
   "metadata": {},
   "outputs": [
    {
     "name": "stdout",
     "output_type": "stream",
     "text": [
      "[-82, 57, -90, -2, 13, -22, 16, 58, -48, 30, 34, -6, -50, 81, -100, -67, 8, 20, -28, 12]\n"
     ]
    }
   ],
   "source": [
    "# list of random numbers\n",
    "import random as rd\n",
    "numbers = list(rd.sample(range(-100, 100), 20))\n",
    "print(numbers)"
   ]
  },
  {
   "cell_type": "code",
   "execution_count": 36,
   "metadata": {},
   "outputs": [
    {
     "name": "stdout",
     "output_type": "stream",
     "text": [
      "Positive numbers: [57, 13, 16, 58, 30, 34, 81, 8, 20, 12]\n",
      "Negative numbers: [-82, -90, -2, -22, -48, -6, -50, -100, -67, -28]\n"
     ]
    }
   ],
   "source": [
    "# Get positive numbers, negative numbers\n",
    "positives = [n for n in numbers if n > 0]\n",
    "negatives = [n for n in numbers if n < 0]\n",
    "print('Positive numbers:', positives)\n",
    "print('Negative numbers:', negatives)"
   ]
  },
  {
   "cell_type": "code",
   "execution_count": 37,
   "metadata": {},
   "outputs": [
    {
     "name": "stdout",
     "output_type": "stream",
     "text": [
      "[0.7057197398224387, 0.2396964734154441, 0.17245822746229555, 0.41846131585725366, 0.45902718869879233, 0.87058456286323, 0.7974070036870277, 0.8060799033204059, 0.25585007671894733, 0.7064738297274121, 0.6806091827421329, 0.6289173532942472, 0.1340361743886691, 0.2894681355610853, 0.816191717139664, 0.6695218504849678, 0.4070425874295859, 0.5165419128181091, 0.37814204708983834, 0.3395665208281622]\n"
     ]
    }
   ],
   "source": [
    "# generate 20 random numbers in (0, 1)\n",
    "numbers = [rd.random() for i in range(20)]\n",
    "print(numbers)"
   ]
  },
  {
   "cell_type": "code",
   "execution_count": 38,
   "metadata": {},
   "outputs": [
    {
     "name": "stdout",
     "output_type": "stream",
     "text": [
      "[1, 0, 0, 0, 0, 1, 1, 1, 0, 1, 1, 1, 0, 0, 1, 1, 0, 1, 0, 0]\n"
     ]
    }
   ],
   "source": [
    "converts = [1 if n > 0.5 else 0 for n in numbers]\n",
    "print(converts)"
   ]
  },
  {
   "cell_type": "code",
   "execution_count": 39,
   "metadata": {},
   "outputs": [
    {
     "name": "stdout",
     "output_type": "stream",
     "text": [
      "9\n"
     ]
    }
   ],
   "source": [
    "numbers = list(rd.sample(range(100), 20))\n",
    "# count how many even numbers in the list\n",
    "# C1\n",
    "evens = [n for n in numbers if n % 2 == 0]\n",
    "print(len(evens))"
   ]
  },
  {
   "cell_type": "code",
   "execution_count": 41,
   "metadata": {},
   "outputs": [
    {
     "name": "stdout",
     "output_type": "stream",
     "text": [
      "9\n"
     ]
    }
   ],
   "source": [
    "print(sum(1 if n % 2 == 0 else 0 for n in numbers))"
   ]
  }
 ],
 "metadata": {
  "interpreter": {
   "hash": "397704579725e15f5c7cb49fe5f0341eb7531c82d19f2c29d197e8b64ab5776b"
  },
  "kernelspec": {
   "display_name": "Python 3.9.1 64-bit",
   "language": "python",
   "name": "python3"
  },
  "language_info": {
   "codemirror_mode": {
    "name": "ipython",
    "version": 3
   },
   "file_extension": ".py",
   "mimetype": "text/x-python",
   "name": "python",
   "nbconvert_exporter": "python",
   "pygments_lexer": "ipython3",
   "version": "3.9.12"
  },
  "orig_nbformat": 4
 },
 "nbformat": 4,
 "nbformat_minor": 2
}
