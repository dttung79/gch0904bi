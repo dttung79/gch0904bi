{
 "cells": [
  {
   "cell_type": "code",
   "execution_count": 1,
   "metadata": {},
   "outputs": [],
   "source": [
    "def fib_rec(n):\n",
    "    if n == 0 or n == 1:\n",
    "        return n\n",
    "    return fib_rec(n-1) + fib_rec(n-2)"
   ]
  },
  {
   "cell_type": "code",
   "execution_count": 4,
   "metadata": {},
   "outputs": [
    {
     "name": "stdout",
     "output_type": "stream",
     "text": [
      "F(40) = 102334155\n"
     ]
    }
   ],
   "source": [
    "n = int(input(\"Enter a number: \"))\n",
    "print('F({}) = {}'.format(n, fib_rec(n)))"
   ]
  },
  {
   "cell_type": "code",
   "execution_count": 6,
   "metadata": {},
   "outputs": [],
   "source": [
    "def fib_gen():\n",
    "    a, b = 0, 1\n",
    "    while True:\n",
    "        yield a\n",
    "        a, b = b, a + b"
   ]
  },
  {
   "cell_type": "code",
   "execution_count": 12,
   "metadata": {},
   "outputs": [
    {
     "name": "stdout",
     "output_type": "stream",
     "text": [
      "F(100) = 354224848179261915075\n"
     ]
    }
   ],
   "source": [
    "n = int(input(\"Enter a number: \"))\n",
    "i = 0\n",
    "for f in fib_gen():\n",
    "    if i == n:\n",
    "        print('F({}) = {}'.format(n, f))\n",
    "        break\n",
    "    i += 1"
   ]
  },
  {
   "cell_type": "code",
   "execution_count": 19,
   "metadata": {},
   "outputs": [
    {
     "name": "stdout",
     "output_type": "stream",
     "text": [
      "Total sold: $497.17\n"
     ]
    }
   ],
   "source": [
    "# Successive generator\n",
    "pizza_sold = [['John Smith', '10:05', 12],\n",
    "              ['Peter Miller', '11:15', 15],\n",
    "              ['Michael Williams', '12:30', 17],\n",
    "              ['Paul Jones', '13:45', 19],\n",
    "              ['Jane Doe', '15:00', 20]]\n",
    "price = 5.99\n",
    "# 1st generator generates number of pizza sold\n",
    "n_solds = (pizza[2] for pizza in pizza_sold)\n",
    "# 2nd generator generates total price of pizza sold\n",
    "prices = (price * n for n in n_solds)\n",
    "# Calculate total price of all pizza sold\n",
    "total_sold = sum(prices)\n",
    "print('Total sold: ${}'.format(total_sold))"
   ]
  },
  {
   "cell_type": "code",
   "execution_count": 20,
   "metadata": {},
   "outputs": [
    {
     "name": "stdout",
     "output_type": "stream",
     "text": [
      "Total sold: $0\n"
     ]
    }
   ],
   "source": [
    "total_sold = sum(prices)\n",
    "print('Total sold: ${}'.format(total_sold))"
   ]
  },
  {
   "cell_type": "code",
   "execution_count": 21,
   "metadata": {},
   "outputs": [],
   "source": [
    "def odd_gen():\n",
    "    a = 1\n",
    "    while True:\n",
    "        yield a\n",
    "        a = a + 2"
   ]
  },
  {
   "cell_type": "code",
   "execution_count": 24,
   "metadata": {},
   "outputs": [],
   "source": [
    "def gen_nth(element, generator):\n",
    "    i = 0\n",
    "    for f in generator():\n",
    "        if i == n:\n",
    "            print('{}[{}] = {}'.format(element, n, f))\n",
    "            break\n",
    "        i += 1"
   ]
  },
  {
   "cell_type": "code",
   "execution_count": 30,
   "metadata": {},
   "outputs": [
    {
     "name": "stdout",
     "output_type": "stream",
     "text": [
      "odd[4] = 9\n",
      "Fib[4] = 3\n"
     ]
    }
   ],
   "source": [
    "n = int(input(\"Enter a number: \"))\n",
    "gen_nth('odd', odd_gen)\n",
    "gen_nth('Fib', fib_gen)"
   ]
  },
  {
   "cell_type": "code",
   "execution_count": 26,
   "metadata": {},
   "outputs": [],
   "source": [
    "def pyramid_gen():\n",
    "    a = 1\n",
    "    n = 1\n",
    "    while True:\n",
    "        yield a\n",
    "        n = n + 1\n",
    "        a = a + n**2"
   ]
  },
  {
   "cell_type": "code",
   "execution_count": 31,
   "metadata": {},
   "outputs": [
    {
     "name": "stdout",
     "output_type": "stream",
     "text": [
      "Pyramid[4] = 55\n"
     ]
    }
   ],
   "source": [
    "gen_nth('Pyramid', pyramid_gen)"
   ]
  },
  {
   "cell_type": "code",
   "execution_count": 35,
   "metadata": {},
   "outputs": [
    {
     "name": "stdout",
     "output_type": "stream",
     "text": [
      "Federal Bureau of Investigation\n",
      "Federal Bureau of Investigation\n",
      "Central Intelligence Agency\n",
      "The Triboro Bridge and Tunnel Authority\n",
      "Housing and Urban Development\n",
      "The Metropolitan Transit Authority\n",
      "The Port Authority of New York and New Jersey\n"
     ]
    }
   ],
   "source": [
    "# Open file agencies.txt\n",
    "f = open('Datasets/agencies.txt', 'r')\n",
    "# Read all lines\n",
    "lines = f.readlines()\n",
    "# Print the first line\n",
    "print(lines[0][:-1])\n",
    "# Print all the lines\n",
    "for line in lines:\n",
    "    print(line[:-1])\n",
    "\n",
    "f.close() # close file reader"
   ]
  },
  {
   "cell_type": "code",
   "execution_count": 38,
   "metadata": {},
   "outputs": [
    {
     "name": "stdout",
     "output_type": "stream",
     "text": [
      "The Triboro Bridge and Tunnel Authority\n",
      "The Metropolitan Transit Authority\n",
      "The Port Authority of New York and New Jersey\n"
     ]
    }
   ],
   "source": [
    "f = open('Datasets/agencies.txt', 'r')\n",
    "# Read one line at a time\n",
    "while True:\n",
    "    line = f.readline()\n",
    "    if not line:\n",
    "        break\n",
    "    if 'Authority' in line:\n",
    "        print(line[:-1])\n",
    "f.close()"
   ]
  },
  {
   "cell_type": "code",
   "execution_count": 5,
   "metadata": {},
   "outputs": [
    {
     "name": "stdout",
     "output_type": "stream",
     "text": [
      "Name: Le Minh Huong, Grade: 6.5\n",
      "Name: Bui Phuong Nam, Grade: 0\n",
      "Name: Nguyen The Dat, Grade: 6.5\n",
      "Name: Pham Minh Thang, Grade: 6.5\n",
      "Name: Do Duy Tung, Grade: 6.5\n"
     ]
    }
   ],
   "source": [
    "# Read gradebook using loadtxt of numpy\n",
    "import numpy as np\n",
    "gradebooks = np.loadtxt('Datasets/gradebook.csv', dtype=str, skiprows=1, delimiter=',')\n",
    "for grade in gradebooks:\n",
    "    print('Name: {}, Grade: {}'.format(grade[3], grade[4]))"
   ]
  },
  {
   "cell_type": "code",
   "execution_count": 47,
   "metadata": {},
   "outputs": [],
   "source": [
    "# Read gradebook using loadtxt of numpy into 5 columns\n",
    "logins, emails, codes, names, grades = np.loadtxt('Datasets/gradebook.csv', dtype=str, \n",
    "                                                  skiprows=1, delimiter=',', unpack=True)"
   ]
  },
  {
   "cell_type": "code",
   "execution_count": null,
   "metadata": {},
   "outputs": [],
   "source": [
    "for i in range(len(names)):\n",
    "    if float(grades[i]) > 0:\n",
    "        print('Name: {}, Grade: {}'.format(names[i], grades[i]))"
   ]
  },
  {
   "cell_type": "code",
   "execution_count": null,
   "metadata": {},
   "outputs": [],
   "source": [
    "names, grades = np.loadtxt('Datasets/gradebook.csv', dtype=str, skiprows=1, \n",
    "                           delimiter=',', unpack=True, usecols=(3, 4))\n",
    "for i in range(len(names)):\n",
    "    if float(grades[i]) > 0:\n",
    "        print('Name: {}, Grade: {}'.format(names[i], grades[i]))"
   ]
  },
  {
   "cell_type": "code",
   "execution_count": null,
   "metadata": {},
   "outputs": [],
   "source": [
    "import csv\n",
    "gradebooks = []\n",
    "with open('Datasets/gradebook.csv', 'r') as f:\n",
    "    reader = csv.reader(f)\n",
    "    for row in reader:\n",
    "        gradebooks.append(row)\n",
    "\n",
    "for i in range(1, len(gradebooks)):\n",
    "    row = gradebooks[i]\n",
    "    if float(row[4]) > 0:\n",
    "        print('Name: {}, Grade: {}'.format(row[3], row[4]))"
   ]
  },
  {
   "cell_type": "code",
   "execution_count": null,
   "metadata": {},
   "outputs": [],
   "source": [
    "with open('Datasets/gradebook.csv', 'r') as f:\n",
    "    reader = csv.reader(f)\n",
    "    # skip 1st row\n",
    "    next(reader)\n",
    "    for row in reader:\n",
    "        if float(row[4]) > 0:\n",
    "            print('Name: {}, Grade: {}'.format(row[3], row[4]))"
   ]
  },
  {
   "cell_type": "code",
   "execution_count": 11,
   "metadata": {},
   "outputs": [],
   "source": [
    "# Read gradebook using loadtxt of numpy into 5 columns\n",
    "logins, emails, codes, names, grades = np.loadtxt('Datasets/gradebook.csv', dtype=str, \n",
    "                                                  skiprows=1, delimiter=',', unpack=True)\n",
    "# Fix grade\n",
    "for i in range(len(grades)):\n",
    "    if grades[i] == '0':\n",
    "        grades[i] = '6.5'\n",
    "\n",
    "header_str = 'Name,Grade'\n",
    "# Save names, grades into new file gradebook_fix.csv using numpy savetxt\n",
    "np.savetxt('Datasets/gradebook_fix.csv', np.column_stack((names, grades)), fmt='%s', \n",
    "           delimiter=',', header=header_str, comments='')"
   ]
  },
  {
   "cell_type": "code",
   "execution_count": null,
   "metadata": {},
   "outputs": [],
   "source": [
    "import csv\n",
    "gradebooks = []\n",
    "with open('Datasets/gradebook.csv', 'r') as f:\n",
    "    reader = csv.reader(f)\n",
    "    for row in reader:\n",
    "        gradebooks.append(row)\n",
    "\n",
    "# Save to new file gradebook_fix.csv using csv.writer\n",
    "with open('Datasets/gradebook_fix.csv', 'w') as f:\n",
    "    writer = csv.writer(f)\n",
    "    writer.writerow(['Name', 'Grade'])\n",
    "    for i in range(1, len(gradebooks)):\n",
    "        row = gradebooks[i]\n",
    "        if float(row[4]) > 0:\n",
    "            writer.writerow([row[3], row[4]])"
   ]
  }
 ],
 "metadata": {
  "interpreter": {
   "hash": "397704579725e15f5c7cb49fe5f0341eb7531c82d19f2c29d197e8b64ab5776b"
  },
  "kernelspec": {
   "display_name": "Python 3.9.1 64-bit",
   "language": "python",
   "name": "python3"
  },
  "language_info": {
   "codemirror_mode": {
    "name": "ipython",
    "version": 3
   },
   "file_extension": ".py",
   "mimetype": "text/x-python",
   "name": "python",
   "nbconvert_exporter": "python",
   "pygments_lexer": "ipython3",
   "version": "3.9.12"
  },
  "orig_nbformat": 4
 },
 "nbformat": 4,
 "nbformat_minor": 2
}
