{
 "cells": [
  {
   "cell_type": "code",
   "execution_count": 1,
   "metadata": {},
   "outputs": [
    {
     "name": "stdout",
     "output_type": "stream",
     "text": [
      "[3, 4, 5, 6, 7]\n"
     ]
    }
   ],
   "source": [
    "a = [3, 4, 5, 6, 7]\n",
    "print(a)"
   ]
  },
  {
   "cell_type": "code",
   "execution_count": 2,
   "metadata": {},
   "outputs": [
    {
     "name": "stdout",
     "output_type": "stream",
     "text": [
      "[4, 'a', 'hello', 4.5, True]\n"
     ]
    }
   ],
   "source": [
    "# list of any type\n",
    "b = [4, 'a', 'hello', 4.5, True]\n",
    "print(b)"
   ]
  },
  {
   "cell_type": "code",
   "execution_count": 5,
   "metadata": {},
   "outputs": [
    {
     "name": "stdout",
     "output_type": "stream",
     "text": [
      "hello\n",
      "hello\n"
     ]
    }
   ],
   "source": [
    "print(b[2]) # positive index starts from 0\n",
    "print(b[-3]) # negative index starts reversely from -1"
   ]
  },
  {
   "cell_type": "code",
   "execution_count": 6,
   "metadata": {},
   "outputs": [
    {
     "name": "stdout",
     "output_type": "stream",
     "text": [
      "['a', 'hello', 4.5]\n"
     ]
    }
   ],
   "source": [
    "# slicing examples\n",
    "c = b[1:4]\n",
    "print(c)"
   ]
  },
  {
   "cell_type": "code",
   "execution_count": 7,
   "metadata": {},
   "outputs": [
    {
     "name": "stdout",
     "output_type": "stream",
     "text": [
      "[4, 'a', 'hello', 4.5, True]\n",
      "[4, 'a', 'hello', 4.5, True]\n"
     ]
    }
   ],
   "source": [
    "d = b       # d is a reference to b\n",
    "e = b[0:5]  # e is a copy of b\n",
    "print(d)\n",
    "print(e)"
   ]
  },
  {
   "cell_type": "code",
   "execution_count": 8,
   "metadata": {},
   "outputs": [
    {
     "name": "stdout",
     "output_type": "stream",
     "text": [
      "[100, 'a', 'hello', 4.5, True]\n",
      "[100, 'a', 'hello', 4.5, True]\n",
      "[200, 'a', 'hello', 4.5, True]\n"
     ]
    }
   ],
   "source": [
    "d[0] = 100 # b[0] is also 100\n",
    "e[0] = 200 # b[0] is not changed\n",
    "print(b)\n",
    "print(d)\n",
    "print(e)"
   ]
  },
  {
   "cell_type": "code",
   "execution_count": 10,
   "metadata": {},
   "outputs": [
    {
     "name": "stdout",
     "output_type": "stream",
     "text": [
      "[4, 5, 6, 7]\n",
      "[3, 4, 5, 6, 7, 8]\n"
     ]
    }
   ],
   "source": [
    "a = [1, 2, 3, 4, 5, 6, 7, 8, 9, 10]\n",
    "# get middle sublist\n",
    "print(a[3:-3])\n",
    "print(a[2:-2])"
   ]
  },
  {
   "cell_type": "code",
   "execution_count": 11,
   "metadata": {},
   "outputs": [
    {
     "name": "stdout",
     "output_type": "stream",
     "text": [
      "[1, 3, 5, 7, 9]\n",
      "[1, 3, 5, 7, 9]\n"
     ]
    }
   ],
   "source": [
    "print(a[0:9:2])\n",
    "print(a[::2])"
   ]
  },
  {
   "cell_type": "code",
   "execution_count": 15,
   "metadata": {},
   "outputs": [
    {
     "name": "stdout",
     "output_type": "stream",
     "text": [
      "[10, 9, 8, 7, 6, 5, 4, 3, 2, 1]\n",
      "[10, 8, 6, 4, 2]\n",
      "[2, 4, 6, 8, 10]\n"
     ]
    }
   ],
   "source": [
    "print(a[::-1]) # copy a reversly\n",
    "print(a[::-2]) # copy a reversly and skip every second element\n",
    "print(a[1::2]) # copy a from 1 to the end and skip every second element"
   ]
  },
  {
   "cell_type": "code",
   "execution_count": 17,
   "metadata": {},
   "outputs": [
    {
     "name": "stdout",
     "output_type": "stream",
     "text": [
      "1 (2, 3, 4, 5)\n"
     ]
    }
   ],
   "source": [
    "# tuple is similar to list, but items cannot be changed\n",
    "b = (1, 2, 3, 4, 5, 6, 7, 8, 9, 10)\n",
    "print(b[0], b[1:5])"
   ]
  },
  {
   "cell_type": "code",
   "execution_count": 18,
   "metadata": {},
   "outputs": [
    {
     "ename": "TypeError",
     "evalue": "'tuple' object does not support item assignment",
     "output_type": "error",
     "traceback": [
      "\u001b[0;31m---------------------------------------------------------------------------\u001b[0m",
      "\u001b[0;31mTypeError\u001b[0m                                 Traceback (most recent call last)",
      "\u001b[1;32m/Volumes/GoogleDrive/My Drive/FPTU/Program - F2G new/Unit 14 - Business Intelligence/GCH0904/Demo/gch0904bi/Day2.ipynb Cell 11'\u001b[0m in \u001b[0;36m<cell line: 1>\u001b[0;34m()\u001b[0m\n\u001b[0;32m----> <a href='vscode-notebook-cell:/Volumes/GoogleDrive/My%20Drive/FPTU/Program%20-%20F2G%20new/Unit%2014%20-%20Business%20Intelligence/GCH0904/Demo/gch0904bi/Day2.ipynb#ch0000010?line=0'>1</a>\u001b[0m b[\u001b[39m0\u001b[39m] \u001b[39m=\u001b[39m \u001b[39m100\u001b[39m\n",
      "\u001b[0;31mTypeError\u001b[0m: 'tuple' object does not support item assignment"
     ]
    }
   ],
   "source": [
    "b[0] = 100 # error"
   ]
  },
  {
   "cell_type": "code",
   "execution_count": 19,
   "metadata": {},
   "outputs": [
    {
     "name": "stdout",
     "output_type": "stream",
     "text": [
      "World\n"
     ]
    }
   ],
   "source": [
    "# string is a kind of tuple of characters\n",
    "msg = 'Hello World'\n",
    "# print World\n",
    "print(msg[6:])"
   ]
  },
  {
   "cell_type": "code",
   "execution_count": 20,
   "metadata": {},
   "outputs": [
    {
     "ename": "TypeError",
     "evalue": "'str' object does not support item assignment",
     "output_type": "error",
     "traceback": [
      "\u001b[0;31m---------------------------------------------------------------------------\u001b[0m",
      "\u001b[0;31mTypeError\u001b[0m                                 Traceback (most recent call last)",
      "\u001b[1;32m/Volumes/GoogleDrive/My Drive/FPTU/Program - F2G new/Unit 14 - Business Intelligence/GCH0904/Demo/gch0904bi/Day2.ipynb Cell 13'\u001b[0m in \u001b[0;36m<cell line: 1>\u001b[0;34m()\u001b[0m\n\u001b[0;32m----> <a href='vscode-notebook-cell:/Volumes/GoogleDrive/My%20Drive/FPTU/Program%20-%20F2G%20new/Unit%2014%20-%20Business%20Intelligence/GCH0904/Demo/gch0904bi/Day2.ipynb#ch0000012?line=0'>1</a>\u001b[0m msg[\u001b[39m6\u001b[39m] \u001b[39m=\u001b[39m \u001b[39m'\u001b[39m\u001b[39mX\u001b[39m\u001b[39m'\u001b[39m\n",
      "\u001b[0;31mTypeError\u001b[0m: 'str' object does not support item assignment"
     ]
    }
   ],
   "source": [
    "msg[6] = 'X' # error"
   ]
  },
  {
   "cell_type": "code",
   "execution_count": 21,
   "metadata": {},
   "outputs": [
    {
     "name": "stdout",
     "output_type": "stream",
     "text": [
      "[1, 2, 3, 4, 5, 6, 7, 8, 9, 10, 11, 12, 13, 14, 15, 16, 17, 18, 19, 20]\n"
     ]
    }
   ],
   "source": [
    "# create a list of 20 numbers consecutively\n",
    "numbers = list(range(1, 21))\n",
    "print(numbers)"
   ]
  },
  {
   "cell_type": "code",
   "execution_count": 22,
   "metadata": {},
   "outputs": [
    {
     "name": "stdout",
     "output_type": "stream",
     "text": [
      "[22, 13, 33, 3, 67, 29, 42, 87, 81, 59, 36, 44, 11, 61, 16, 49, 53, 52, 96, 32]\n"
     ]
    }
   ],
   "source": [
    "import random as rd \n",
    "# create a list of 20 random numbers\n",
    "numbers = list(rd.sample(range(1, 100), 20))\n",
    "print(numbers)"
   ]
  },
  {
   "cell_type": "code",
   "execution_count": 27,
   "metadata": {},
   "outputs": [
    {
     "name": "stdout",
     "output_type": "stream",
     "text": [
      "[22, 13, 33, 3, 67, 29, 42, 87, 81, 59]\n",
      "[36, 44, 11, 61, 16, 49, 53, 52, 96, 32]\n"
     ]
    }
   ],
   "source": [
    "# get 1st half of the list\n",
    "n = len(numbers) // 2\n",
    "a = numbers[:n]\n",
    "# get 2nd half of the list\n",
    "b = numbers[n:]\n",
    "print(a, b, sep='\\n')"
   ]
  },
  {
   "cell_type": "code",
   "execution_count": 28,
   "metadata": {},
   "outputs": [
    {
     "name": "stdout",
     "output_type": "stream",
     "text": [
      "[3, 67, 29, 42, 87, 81, 59, 36, 44, 11, 61, 16, 49, 53]\n"
     ]
    }
   ],
   "source": [
    "n = int(input('Enter a number n: '))\n",
    "# remove n first elements and n last elements\n",
    "c = numbers[n:-n]\n",
    "print(c)"
   ]
  },
  {
   "cell_type": "code",
   "execution_count": 29,
   "metadata": {},
   "outputs": [
    {
     "name": "stdout",
     "output_type": "stream",
     "text": [
      "[22, 13, 33, 52, 96, 32]\n"
     ]
    }
   ],
   "source": [
    "d = numbers[:n] + numbers[-n:]\n",
    "print(d)"
   ]
  },
  {
   "cell_type": "code",
   "execution_count": 33,
   "metadata": {},
   "outputs": [
    {
     "ename": "IndexError",
     "evalue": "list index out of range",
     "output_type": "error",
     "traceback": [
      "\u001b[0;31m---------------------------------------------------------------------------\u001b[0m",
      "\u001b[0;31mIndexError\u001b[0m                                Traceback (most recent call last)",
      "\u001b[1;32m/Volumes/GoogleDrive/My Drive/FPTU/Program - F2G new/Unit 14 - Business Intelligence/GCH0904/Demo/gch0904bi/Day2.ipynb Cell 19'\u001b[0m in \u001b[0;36m<cell line: 2>\u001b[0;34m()\u001b[0m\n\u001b[1;32m      <a href='vscode-notebook-cell:/Volumes/GoogleDrive/My%20Drive/FPTU/Program%20-%20F2G%20new/Unit%2014%20-%20Business%20Intelligence/GCH0904/Demo/gch0904bi/Day2.ipynb#ch0000018?line=0'>1</a>\u001b[0m n \u001b[39m=\u001b[39m \u001b[39mint\u001b[39m(\u001b[39minput\u001b[39m(\u001b[39m'\u001b[39m\u001b[39mEnter a number n: \u001b[39m\u001b[39m'\u001b[39m))\n\u001b[0;32m----> <a href='vscode-notebook-cell:/Volumes/GoogleDrive/My%20Drive/FPTU/Program%20-%20F2G%20new/Unit%2014%20-%20Business%20Intelligence/GCH0904/Demo/gch0904bi/Day2.ipynb#ch0000018?line=1'>2</a>\u001b[0m \u001b[39mprint\u001b[39m(numbers[n])\n",
      "\u001b[0;31mIndexError\u001b[0m: list index out of range"
     ]
    }
   ],
   "source": [
    "n = int(input('Enter a number n: '))\n",
    "print(numbers[n])"
   ]
  },
  {
   "cell_type": "code",
   "execution_count": null,
   "metadata": {},
   "outputs": [],
   "source": [
    "# create a list of 20 random numbers from -99 to 99\n",
    "# get a list of even index (0, 2, 4, 6, 8, ...)\n",
    "# get a list of odd index (1, 3, 5, 7, 9, ...)\n",
    "# enter n, m, k, get a list start from m, end at k-1, skip every n elements"
   ]
  },
  {
   "cell_type": "code",
   "execution_count": 34,
   "metadata": {},
   "outputs": [
    {
     "name": "stdout",
     "output_type": "stream",
     "text": [
      "['b', 'd', 'f']\n"
     ]
    }
   ],
   "source": [
    "a = ['a', 'b', 'c', 'd', 'e', 'f']\n",
    "print(a[1::2])"
   ]
  }
 ],
 "metadata": {
  "interpreter": {
   "hash": "397704579725e15f5c7cb49fe5f0341eb7531c82d19f2c29d197e8b64ab5776b"
  },
  "kernelspec": {
   "display_name": "Python 3.9.1 64-bit",
   "language": "python",
   "name": "python3"
  },
  "language_info": {
   "codemirror_mode": {
    "name": "ipython",
    "version": 3
   },
   "file_extension": ".py",
   "mimetype": "text/x-python",
   "name": "python",
   "nbconvert_exporter": "python",
   "pygments_lexer": "ipython3",
   "version": "3.9.12"
  },
  "orig_nbformat": 4
 },
 "nbformat": 4,
 "nbformat_minor": 2
}
