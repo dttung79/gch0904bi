{
 "cells": [
  {
   "cell_type": "code",
   "execution_count": 1,
   "metadata": {},
   "outputs": [],
   "source": [
    "import numpy as np"
   ]
  },
  {
   "cell_type": "code",
   "execution_count": 2,
   "metadata": {},
   "outputs": [
    {
     "name": "stdout",
     "output_type": "stream",
     "text": [
      "[-85  31  17  77  25 -21  70 -31  86  -9   5  24 -83 -47  75  88 -81 -35\n",
      " -38  94]\n"
     ]
    }
   ],
   "source": [
    "# list of 20 random numbers\n",
    "numbers = np.random.randint(-100, 100, 20)\n",
    "print(numbers)"
   ]
  },
  {
   "cell_type": "code",
   "execution_count": 4,
   "metadata": {},
   "outputs": [
    {
     "name": "stdout",
     "output_type": "stream",
     "text": [
      "-85 -21 -31 -9 -83 -47 -81 -35 -38 "
     ]
    }
   ],
   "source": [
    "# find negative numbers\n",
    "i = 0\n",
    "while i < len(numbers):\n",
    "    if numbers[i] < 0:\n",
    "        print(numbers[i], end=\" \")\n",
    "    i += 1"
   ]
  },
  {
   "cell_type": "code",
   "execution_count": 8,
   "metadata": {},
   "outputs": [
    {
     "name": "stdout",
     "output_type": "stream",
     "text": [
      "[-85  31  17  77  25 -21  70 -31  86  -9   5  24 -83 -47  75  88 -81 -35\n",
      " -38  94]\n",
      "[False  True  True  True  True False  True False  True False  True  True\n",
      " False False  True  True False False False  True]\n",
      "[31 17 77 25 70 86  5 24 75 88 94]\n"
     ]
    }
   ],
   "source": [
    "# boolean indexing\n",
    "bool_index = numbers > 0\n",
    "positives = numbers[bool_index]\n",
    "print(numbers)\n",
    "print(bool_index)\n",
    "print(positives)"
   ]
  },
  {
   "cell_type": "code",
   "execution_count": 13,
   "metadata": {},
   "outputs": [
    {
     "name": "stdout",
     "output_type": "stream",
     "text": [
      "[-85 -21 -31  -9 -83 -47 -81 -35 -38]\n",
      "[-85  31  17  77  25 -21 -31  -9   5 -83 -47  75 -81 -35]\n",
      "[ 70  86  24  88 -38  94]\n",
      "[77 88]\n",
      "[77 88]\n",
      "[-85  86 -83  88 -81]\n"
     ]
    }
   ],
   "source": [
    "# find negative numbers\n",
    "negatives = numbers[numbers < 0]\n",
    "print(negatives)\n",
    "# find odd numbers\n",
    "odds = numbers[numbers % 2 == 1]\n",
    "print(odds)\n",
    "# find even numbers\n",
    "evens = numbers[numbers % 2 == 0]\n",
    "print(evens)\n",
    "# find numbers that has the same digits\n",
    "same_digits = numbers[numbers % 11 == 0]\n",
    "print(same_digits)\n",
    "same_digits = numbers[numbers // 10 == numbers % 10]\n",
    "print(same_digits)\n",
    "# find numbers that has the 1st digit is 8\n",
    "print(numbers[np.abs(numbers) // 10 == 8])"
   ]
  },
  {
   "cell_type": "code",
   "execution_count": 15,
   "metadata": {},
   "outputs": [
    {
     "name": "stdout",
     "output_type": "stream",
     "text": [
      "['Sally' 'Jane' 'Tom' 'Linda']\n"
     ]
    }
   ],
   "source": [
    "# array of names, array of ages\n",
    "names = np.array(['John', 'Mary', 'Peter', 'Sally', 'Jane', 'Tom', 'James', 'Linda'])\n",
    "ages = np.array([12, 23, 34, 45, 56, 67, 18, 89])\n",
    "# find who is older than 40\n",
    "olds = names[ages > 40]\n",
    "print(olds)"
   ]
  },
  {
   "cell_type": "code",
   "execution_count": 17,
   "metadata": {},
   "outputs": [
    {
     "name": "stdout",
     "output_type": "stream",
     "text": [
      "[ True False False False  True False  True False]\n",
      "['John' 'Jane' 'James']\n"
     ]
    }
   ],
   "source": [
    "# find names that starts with J\n",
    "print(np.char.startswith(names, 'J'))\n",
    "jnames = names[np.char.startswith(names, 'J')]\n",
    "print(jnames)"
   ]
  },
  {
   "cell_type": "code",
   "execution_count": 18,
   "metadata": {},
   "outputs": [
    {
     "name": "stdout",
     "output_type": "stream",
     "text": [
      "[-85  31  17  77  25 -21  70 -31  86  -9   5  24 -83 -47  75  88 -81 -35\n",
      " -38  94]\n"
     ]
    }
   ],
   "source": [
    "# Fix array based on condition\n",
    "print(numbers)"
   ]
  },
  {
   "cell_type": "code",
   "execution_count": 19,
   "metadata": {},
   "outputs": [
    {
     "name": "stdout",
     "output_type": "stream",
     "text": [
      "[85 31 17 77 25 21 70 31 86  9  5 24 83 47 75 88 81 35 38 94]\n"
     ]
    }
   ],
   "source": [
    "# convert negative numbers to positive numbers\n",
    "numbers[numbers < 0] *= -1\n",
    "print(numbers)"
   ]
  },
  {
   "cell_type": "code",
   "execution_count": null,
   "metadata": {},
   "outputs": [],
   "source": [
    "# convert small numbers (less than 20) to 20\n",
    "numbers[numbers < 20] = 20"
   ]
  },
  {
   "cell_type": "code",
   "execution_count": 22,
   "metadata": {},
   "outputs": [
    {
     "name": "stdout",
     "output_type": "stream",
     "text": [
      "[ 0  2  4  6  8 10 12 14 16 18]\n"
     ]
    }
   ],
   "source": [
    "# Create array of 10 integers from 0 to 20 (exclusive), \n",
    "# equally spacing by using linspace\n",
    "numbers = np.linspace(0, 20, 10, endpoint=False, dtype=int)\n",
    "print(numbers)"
   ]
  },
  {
   "cell_type": "code",
   "execution_count": 24,
   "metadata": {},
   "outputs": [
    {
     "name": "stdout",
     "output_type": "stream",
     "text": [
      "[ 0  2  4  6  8 10 12 14 16 18]\n"
     ]
    }
   ],
   "source": [
    "# Create array of 10 integers from 0 to 20 (exclusive), \n",
    "# equally spacing by using arange\n",
    "numbers = np.arange(0, 20, 2)\n",
    "print(numbers)"
   ]
  },
  {
   "cell_type": "code",
   "execution_count": 25,
   "metadata": {},
   "outputs": [
    {
     "name": "stdout",
     "output_type": "stream",
     "text": [
      "[86 91 79 42  0 37 95 65  2 79 18 52 68 76 21 41  3 67 79 68]\n"
     ]
    }
   ],
   "source": [
    "numbers = np.random.randint(0, 100, 20)\n",
    "print(numbers)"
   ]
  },
  {
   "cell_type": "code",
   "execution_count": 26,
   "metadata": {},
   "outputs": [
    {
     "name": "stdout",
     "output_type": "stream",
     "text": [
      "[86 42  0  2 18 52 68 76 68 91 79 37 95 65 79 21 41  3 67 79]\n"
     ]
    }
   ],
   "source": [
    "evens = numbers[numbers % 2 == 0]\n",
    "odds = numbers[numbers % 2 == 1]\n",
    "numbers = np.concatenate((evens, odds))\n",
    "print(numbers)"
   ]
  },
  {
   "cell_type": "code",
   "execution_count": 27,
   "metadata": {},
   "outputs": [
    {
     "name": "stdout",
     "output_type": "stream",
     "text": [
      "[ 0.   1.3  5.  10.9 18.9 28.7 40. ]\n",
      "[0.   0.49 1.   1.5  2.08 2.55 3.2 ]\n",
      "[ 2.65306122  7.25490196 11.8        13.79310345 20.85106383 17.38461538]\n"
     ]
    }
   ],
   "source": [
    "y = np.array([0., 1.3, 5. , 10.9, 18.9, 28.7, 40.]) \n",
    "t = np.array([0., 0.49, 1. , 1.5 , 2.08, 2.55, 3.2]) \n",
    "v = np.zeros(6)\n",
    "i = 0\n",
    "\n",
    "while i < len(y) - 1:\n",
    "    v[i] = (y[i + 1] - y[i]) / (t[i + 1] - t[i])\n",
    "    i += 1\n",
    "\n",
    "print(y, t, v, sep=\"\\n\")"
   ]
  },
  {
   "cell_type": "code",
   "execution_count": 28,
   "metadata": {},
   "outputs": [
    {
     "name": "stdout",
     "output_type": "stream",
     "text": [
      "[ 2.65306122  7.25490196 11.8        13.79310345 20.85106383 17.38461538]\n"
     ]
    }
   ],
   "source": [
    "v = (y[1:] - y[:-1]) / (t[1:] - t[:-1])\n",
    "print(v)"
   ]
  },
  {
   "cell_type": "code",
   "execution_count": 29,
   "metadata": {},
   "outputs": [
    {
     "name": "stdout",
     "output_type": "stream",
     "text": [
      "[[1 2 3]\n",
      " [4 5 6]\n",
      " [7 8 9]]\n"
     ]
    }
   ],
   "source": [
    "# Multi-dimensional array\n",
    "m = np.array([[1, 2, 3], [4, 5, 6], [7, 8, 9]])\n",
    "print(m)"
   ]
  },
  {
   "cell_type": "code",
   "execution_count": 30,
   "metadata": {},
   "outputs": [
    {
     "name": "stdout",
     "output_type": "stream",
     "text": [
      "5\n",
      "5\n"
     ]
    }
   ],
   "source": [
    "# Get number 5\n",
    "print(m[1][1])\n",
    "print(m[1, 1])"
   ]
  },
  {
   "cell_type": "code",
   "execution_count": 32,
   "metadata": {},
   "outputs": [
    {
     "name": "stdout",
     "output_type": "stream",
     "text": [
      "[[1 1 1]\n",
      " [1 1 1]\n",
      " [1 1 1]]\n"
     ]
    }
   ],
   "source": [
    "# matrix of all number 1\n",
    "m = np.ones((3, 3), dtype=int)\n",
    "print(m)"
   ]
  },
  {
   "cell_type": "code",
   "execution_count": 33,
   "metadata": {},
   "outputs": [
    {
     "name": "stdout",
     "output_type": "stream",
     "text": [
      "[[10 10 10]\n",
      " [10 10 10]\n",
      " [10 10 10]]\n"
     ]
    }
   ],
   "source": [
    "# matrix of all number 10\n",
    "m = m*10\n",
    "print(m)"
   ]
  },
  {
   "cell_type": "code",
   "execution_count": 34,
   "metadata": {},
   "outputs": [
    {
     "name": "stdout",
     "output_type": "stream",
     "text": [
      "[[86 89 93 48 57]\n",
      " [88 97 33 74 72]\n",
      " [67 76 13  3 39]\n",
      " [72 52 81 89 63]\n",
      " [18 54 39 56 64]]\n"
     ]
    }
   ],
   "source": [
    "# matrix 5x5 of random numbers\n",
    "m = np.random.randint(0, 100, (5, 5))\n",
    "print(m)"
   ]
  },
  {
   "cell_type": "code",
   "execution_count": 35,
   "metadata": {},
   "outputs": [
    {
     "name": "stdout",
     "output_type": "stream",
     "text": [
      "[[88 97 33]\n",
      " [67 76 13]]\n"
     ]
    }
   ],
   "source": [
    "print(m[1:3, :3])"
   ]
  },
  {
   "cell_type": "code",
   "execution_count": 36,
   "metadata": {},
   "outputs": [
    {
     "name": "stdout",
     "output_type": "stream",
     "text": [
      "[ 1  2  3  4  5  6  7  8  9 10]\n"
     ]
    }
   ],
   "source": [
    "a = [1, 2, 3, 4, 5, 6, 7, 8, 9, 10]\n",
    "m = np.array(a)\n",
    "print(m)"
   ]
  },
  {
   "cell_type": "code",
   "execution_count": 38,
   "metadata": {},
   "outputs": [
    {
     "name": "stdout",
     "output_type": "stream",
     "text": [
      "[[ 1  2  3  4  5]\n",
      " [ 6  7  8  9 10]]\n",
      "[[ 1  2]\n",
      " [ 3  4]\n",
      " [ 5  6]\n",
      " [ 7  8]\n",
      " [ 9 10]]\n"
     ]
    }
   ],
   "source": [
    "m = np.reshape(m, (2, 5))\n",
    "print(m)\n",
    "m = np.reshape(m, (5, 2))\n",
    "print(m)"
   ]
  },
  {
   "cell_type": "code",
   "execution_count": 39,
   "metadata": {},
   "outputs": [
    {
     "name": "stdout",
     "output_type": "stream",
     "text": [
      "[1 2 3 4 5]\n",
      "[[1]\n",
      " [2]\n",
      " [3]\n",
      " [4]\n",
      " [5]]\n",
      "[[1 2 3 4 5]]\n"
     ]
    }
   ],
   "source": [
    "a = np.array([1, 2, 3, 4, 5])\n",
    "b = np.reshape(a, (5, 1))\n",
    "c = np.reshape(a, (1, 5))\n",
    "print(a, b, c, sep=\"\\n\")"
   ]
  },
  {
   "cell_type": "code",
   "execution_count": 40,
   "metadata": {},
   "outputs": [
    {
     "name": "stdout",
     "output_type": "stream",
     "text": [
      "(5,)\n",
      "(5, 1)\n",
      "(1, 5)\n"
     ]
    }
   ],
   "source": [
    "print(np.shape(a), np.shape(b), np.shape(c), sep=\"\\n\")"
   ]
  },
  {
   "cell_type": "code",
   "execution_count": null,
   "metadata": {},
   "outputs": [],
   "source": [
    "words = {'hello':'bonjour', 'goodbye':'au revoir', 'cat':'chat', 'dog':'chien'}\n",
    "w = input(\"Enter an English word: \")\n",
    "print('French translation of {} is {}'.format(w, words[w]))"
   ]
  },
  {
   "cell_type": "code",
   "execution_count": 44,
   "metadata": {},
   "outputs": [
    {
     "name": "stdout",
     "output_type": "stream",
     "text": [
      "{'hello': 'bonjour', 'goodbye': 'au revoir', 'cat': 'chat', 'dog': 'chien', 'merci': 'thanks'}\n"
     ]
    }
   ],
   "source": [
    "# add new word to words\n",
    "w = input(\"Enter an English word: \")\n",
    "f = input(\"Enter a French translation: \")\n",
    "words[w] = f\n",
    "print(words)"
   ]
  },
  {
   "cell_type": "code",
   "execution_count": 45,
   "metadata": {},
   "outputs": [
    {
     "name": "stdout",
     "output_type": "stream",
     "text": [
      "{'hello': 'bonsoir', 'goodbye': 'au revoir', 'cat': 'chat', 'dog': 'chien', 'merci': 'thanks'}\n"
     ]
    }
   ],
   "source": [
    "# Edit a word\n",
    "w = input(\"Enter an exist English word: \")\n",
    "f = input(\"Enter a French translation: \")\n",
    "words[w] = f\n",
    "print(words)"
   ]
  },
  {
   "cell_type": "code",
   "execution_count": 48,
   "metadata": {},
   "outputs": [
    {
     "name": "stdout",
     "output_type": "stream",
     "text": [
      "dict_keys(['hello', 'goodbye', 'cat', 'dog', 'merci'])\n",
      "['hello', 'goodbye', 'cat', 'dog', 'merci']\n",
      "['bonsoir', 'au revoir', 'chat', 'chien', 'thanks']\n"
     ]
    }
   ],
   "source": [
    "# Get all the keys\n",
    "print(words.keys())\n",
    "print(list(words.keys()))\n",
    "# Get all the values\n",
    "print(list(words.values()))"
   ]
  },
  {
   "cell_type": "code",
   "execution_count": 50,
   "metadata": {},
   "outputs": [
    {
     "name": "stdout",
     "output_type": "stream",
     "text": [
      "The day of week is Thursday\n"
     ]
    }
   ],
   "source": [
    "dow = {2:'Monday', 3:'Tuesday', 4:'Wednesday', 5:'Thursday', 6:'Friday', \n",
    "       7:'Saturday', 1:'Sunday'}\n",
    "day = int(input(\"Enter a day of week in number: \"))\n",
    "print('The day of week is {}'.format(dow[day]))    "
   ]
  }
 ],
 "metadata": {
  "interpreter": {
   "hash": "397704579725e15f5c7cb49fe5f0341eb7531c82d19f2c29d197e8b64ab5776b"
  },
  "kernelspec": {
   "display_name": "Python 3.9.1 64-bit",
   "language": "python",
   "name": "python3"
  },
  "language_info": {
   "codemirror_mode": {
    "name": "ipython",
    "version": 3
   },
   "file_extension": ".py",
   "mimetype": "text/x-python",
   "name": "python",
   "nbconvert_exporter": "python",
   "pygments_lexer": "ipython3",
   "version": "3.9.12"
  },
  "orig_nbformat": 4
 },
 "nbformat": 4,
 "nbformat_minor": 2
}
