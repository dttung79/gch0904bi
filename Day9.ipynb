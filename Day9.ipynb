{
 "cells": [
  {
   "cell_type": "code",
   "execution_count": 23,
   "metadata": {},
   "outputs": [],
   "source": [
    "employees = [['John Lennon', 'a??8628282', 100],\n",
    "             ['Paul McCartney', '097abc28282', 1000],\n",
    "             ['Ringo Starr', '012372373', 550],\n",
    "             ['George Harrison Harrison Harrison Harrison', '12276ab6e34', 10000],\n",
    "             ['Pete Best', '0912772637', 1200],\n",
    "             ['Stuart Sutcliffe', '0182672838', 1800],\n",
    "             ['', '0978628282', 150]]"
   ]
  },
  {
   "cell_type": "code",
   "execution_count": 4,
   "metadata": {},
   "outputs": [],
   "source": [
    "def fix_nothing(employees):\n",
    "    pass\n",
    "def fix_employees(employees, fix_names=fix_nothing, \n",
    "                  fix_phones=fix_nothing, fix_salaries=fix_nothing):\n",
    "    fix_names(employees)\n",
    "    fix_phones(employees)\n",
    "    fix_salaries(employees)"
   ]
  },
  {
   "cell_type": "code",
   "execution_count": 5,
   "metadata": {},
   "outputs": [],
   "source": [
    "def print_employees(employees):\n",
    "    for employee in employees:\n",
    "        print('Name: {}, Phone: {}, Salary: {}'.format(employee[0], employee[1], employee[2]))"
   ]
  },
  {
   "cell_type": "code",
   "execution_count": 6,
   "metadata": {},
   "outputs": [],
   "source": [
    "def fix_empty_names(employees):\n",
    "    for employee in employees:\n",
    "        if employee[0] == '':\n",
    "            employee[0] = 'John Doe'"
   ]
  },
  {
   "cell_type": "code",
   "execution_count": 7,
   "metadata": {},
   "outputs": [
    {
     "name": "stdout",
     "output_type": "stream",
     "text": [
      "Name: John Lennon, Phone: 0978628282, Salary: 100\n",
      "Name: Paul McCartney, Phone: 097abc28282, Salary: 1000\n",
      "Name: Ringo Starr, Phone: 012372373, Salary: 550\n",
      "Name: George Harrison Harrison Harrison Harrison, Phone: 12276ab6e34, Salary: 10000\n",
      "Name: Pete Best, Phone: 0912772637, Salary: 1200\n",
      "Name: Stuart Sutcliffe, Phone: 0182672838, Salary: 1800\n",
      "Name: John Doe, Phone: 0978628282, Salary: 150\n"
     ]
    }
   ],
   "source": [
    "fix_employees(employees, fix_empty_names)\n",
    "print_employees(employees)"
   ]
  },
  {
   "cell_type": "code",
   "execution_count": 8,
   "metadata": {},
   "outputs": [],
   "source": [
    "def fix_long_names(employees):\n",
    "    for employee in employees:\n",
    "        if len(employee[0]) > 20:\n",
    "            employee[0] = employee[0][:20]"
   ]
  },
  {
   "cell_type": "code",
   "execution_count": 9,
   "metadata": {},
   "outputs": [
    {
     "name": "stdout",
     "output_type": "stream",
     "text": [
      "Name: John Lennon, Phone: 0978628282, Salary: 100\n",
      "Name: Paul McCartney, Phone: 097abc28282, Salary: 1000\n",
      "Name: Ringo Starr, Phone: 012372373, Salary: 550\n",
      "Name: George Harrison Harr, Phone: 12276ab6e34, Salary: 10000\n",
      "Name: Pete Best, Phone: 0912772637, Salary: 1200\n",
      "Name: Stuart Sutcliffe, Phone: 0182672838, Salary: 1800\n",
      "Name: John Doe, Phone: 0978628282, Salary: 150\n"
     ]
    }
   ],
   "source": [
    "fix_employees(employees, fix_long_names)\n",
    "print_employees(employees)"
   ]
  },
  {
   "cell_type": "code",
   "execution_count": 11,
   "metadata": {},
   "outputs": [],
   "source": [
    "def fix_phone_digits(employees):\n",
    "    for employee in employees:\n",
    "        phone = [d if d in '0123456789' else '0' for d in employee[1]]\n",
    "        employee[1] = ''.join(phone)"
   ]
  },
  {
   "cell_type": "code",
   "execution_count": 12,
   "metadata": {},
   "outputs": [
    {
     "name": "stdout",
     "output_type": "stream",
     "text": [
      "Name: John Lennon, Phone: 0978628282, Salary: 100\n",
      "Name: Paul McCartney, Phone: 09700028282, Salary: 1000\n",
      "Name: Ringo Starr, Phone: 012372373, Salary: 550\n",
      "Name: George Harrison Harr, Phone: 12276006034, Salary: 10000\n",
      "Name: Pete Best, Phone: 0912772637, Salary: 1200\n",
      "Name: Stuart Sutcliffe, Phone: 0182672838, Salary: 1800\n",
      "Name: John Doe, Phone: 0978628282, Salary: 150\n"
     ]
    }
   ],
   "source": [
    "fix_employees(employees, fix_phones=fix_phone_digits)\n",
    "print_employees(employees)"
   ]
  },
  {
   "cell_type": "code",
   "execution_count": 15,
   "metadata": {},
   "outputs": [],
   "source": [
    "def fix_phone_digits_proper(employees):\n",
    "    for employee in employees:\n",
    "        phone = [d for d in employee[1]]\n",
    "        last_digit = '0'\n",
    "        # Fix other digits\n",
    "        for i in range(0, len(phone)):\n",
    "            if phone[i] not in '0123456789':\n",
    "                phone[i] = last_digit\n",
    "            last_digit = phone[i]\n",
    "        # rejoin phone\n",
    "        employee[1] = ''.join(phone)\n",
    "            "
   ]
  },
  {
   "cell_type": "code",
   "execution_count": 16,
   "metadata": {},
   "outputs": [
    {
     "name": "stdout",
     "output_type": "stream",
     "text": [
      "Name: John Lennon, Phone: 0008628282, Salary: 100\n",
      "Name: Paul McCartney, Phone: 09777728282, Salary: 1000\n",
      "Name: Ringo Starr, Phone: 012372373, Salary: 550\n",
      "Name: George Harrison Harrison Harrison Harrison, Phone: 12276666634, Salary: 10000\n",
      "Name: Pete Best, Phone: 0912772637, Salary: 1200\n",
      "Name: Stuart Sutcliffe, Phone: 0182672838, Salary: 1800\n",
      "Name: , Phone: 0978628282, Salary: 150\n"
     ]
    }
   ],
   "source": [
    "fix_employees(employees, fix_phones=fix_phone_digits_proper)\n",
    "print_employees(employees)"
   ]
  },
  {
   "cell_type": "code",
   "execution_count": 18,
   "metadata": {},
   "outputs": [],
   "source": [
    "def fix_salary_default(employees):\n",
    "    for employee in employees:\n",
    "        if employee[2] < 200:\n",
    "            employee[2] = 200\n",
    "        if employee[2] > 2000:\n",
    "            employee[2] = 2000\n",
    "\n",
    "def fix_salary_mean(employees):\n",
    "    valid_salaries = [employee[2] for employee in employees if 200 <= employee[2] <= 2000]\n",
    "    mean_salary = sum(valid_salaries) / len(valid_salaries)\n",
    "    for employee in employees:\n",
    "        if employee[2] < 200 or employee[2] > 2000:\n",
    "            employee[2] = mean_salary"
   ]
  },
  {
   "cell_type": "code",
   "execution_count": 20,
   "metadata": {},
   "outputs": [
    {
     "name": "stdout",
     "output_type": "stream",
     "text": [
      "Name: John Lennon, Phone: 0008628282, Salary: 200\n",
      "Name: Paul McCartney, Phone: 09777728282, Salary: 1000\n",
      "Name: Ringo Starr, Phone: 012372373, Salary: 550\n",
      "Name: George Harrison Harrison Harrison Harrison, Phone: 12276666634, Salary: 2000\n",
      "Name: Pete Best, Phone: 0912772637, Salary: 1200\n",
      "Name: Stuart Sutcliffe, Phone: 0182672838, Salary: 1800\n",
      "Name: John Doe, Phone: 0978628282, Salary: 200\n"
     ]
    }
   ],
   "source": [
    "fix_employees(employees, fix_names=fix_empty_names, fix_salaries=fix_salary_default)\n",
    "print_employees(employees)"
   ]
  },
  {
   "cell_type": "code",
   "execution_count": 22,
   "metadata": {},
   "outputs": [
    {
     "name": "stdout",
     "output_type": "stream",
     "text": [
      "Name: John Lennon, Phone: a??8628282, Salary: 1137.5\n",
      "Name: Paul McCartney, Phone: 097abc28282, Salary: 1000\n",
      "Name: Ringo Starr, Phone: 012372373, Salary: 550\n",
      "Name: George Harrison Harrison Harrison Harrison, Phone: 12276ab6e34, Salary: 1137.5\n",
      "Name: Pete Best, Phone: 0912772637, Salary: 1200\n",
      "Name: Stuart Sutcliffe, Phone: 0182672838, Salary: 1800\n",
      "Name: John Doe, Phone: 0978628282, Salary: 1137.5\n"
     ]
    }
   ],
   "source": [
    "fix_employees(employees, fix_names=fix_empty_names, fix_salaries=fix_salary_mean)\n",
    "print_employees(employees)"
   ]
  },
  {
   "cell_type": "code",
   "execution_count": 24,
   "metadata": {},
   "outputs": [
    {
     "name": "stdout",
     "output_type": "stream",
     "text": [
      "Name: John Lennon, Phone: 0008628282, Salary: 1137.5\n",
      "Name: Paul McCartney, Phone: 09777728282, Salary: 1000\n",
      "Name: Ringo Starr, Phone: 012372373, Salary: 550\n",
      "Name: George Harrison Harr, Phone: 12276666634, Salary: 1137.5\n",
      "Name: Pete Best, Phone: 0912772637, Salary: 1200\n",
      "Name: Stuart Sutcliffe, Phone: 0182672838, Salary: 1800\n",
      "Name: John Doe, Phone: 0978628282, Salary: 1137.5\n"
     ]
    }
   ],
   "source": [
    "fix_employees(employees, fix_empty_names, fix_phone_digits_proper, fix_salary_mean)\n",
    "fix_employees(employees, fix_long_names)\n",
    "print_employees(employees)"
   ]
  },
  {
   "cell_type": "code",
   "execution_count": 25,
   "metadata": {},
   "outputs": [
    {
     "name": "stdout",
     "output_type": "stream",
     "text": [
      "Sum of squares: 55\n",
      "Sum of squares: 55\n",
      "Sum of squares: 55\n"
     ]
    }
   ],
   "source": [
    "# Given a list, print sum of square of each element\n",
    "a = [1, 2, 3, 4, 5]\n",
    "# C1: using for loop\n",
    "s =0\n",
    "for x in a:\n",
    "    s += x**2\n",
    "print('Sum of squares: {}'.format(s))\n",
    "# C2: using list comprehension\n",
    "squares = [x**2 for x in a]\n",
    "print('Sum of squares: {}'.format(sum(squares)))\n",
    "# C3: using generator\n",
    "squares = (x**2 for x in a)\n",
    "print('Sum of squares: {}'.format(sum(squares)))"
   ]
  },
  {
   "cell_type": "code",
   "execution_count": 26,
   "metadata": {},
   "outputs": [],
   "source": [
    "def square_gen(numbers):\n",
    "    for n in numbers:\n",
    "        yield n**2"
   ]
  },
  {
   "cell_type": "code",
   "execution_count": 28,
   "metadata": {},
   "outputs": [
    {
     "name": "stdout",
     "output_type": "stream",
     "text": [
      "1 4 9 16 25 "
     ]
    }
   ],
   "source": [
    "# print squares\n",
    "for n in square_gen(a):\n",
    "    print(n, end=' ')"
   ]
  }
 ],
 "metadata": {
  "interpreter": {
   "hash": "397704579725e15f5c7cb49fe5f0341eb7531c82d19f2c29d197e8b64ab5776b"
  },
  "kernelspec": {
   "display_name": "Python 3.9.1 64-bit",
   "language": "python",
   "name": "python3"
  },
  "language_info": {
   "codemirror_mode": {
    "name": "ipython",
    "version": 3
   },
   "file_extension": ".py",
   "mimetype": "text/x-python",
   "name": "python",
   "nbconvert_exporter": "python",
   "pygments_lexer": "ipython3",
   "version": "3.9.12"
  },
  "orig_nbformat": 4
 },
 "nbformat": 4,
 "nbformat_minor": 2
}
