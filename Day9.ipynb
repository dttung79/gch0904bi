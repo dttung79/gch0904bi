{
 "cells": [
  {
   "cell_type": "code",
   "execution_count": 1,
   "metadata": {},
   "outputs": [],
   "source": [
    "employees = [['John Lennon', '0978628282', 100],\n",
    "             ['Paul McCartney', '097abc28282', 1000],\n",
    "             ['Ringo Starr', '012372373', 550],\n",
    "             ['George Harrison Harrison Harrison Harrison', '12276ab6e34', 10000],\n",
    "             ['Pete Best', '0912772637', 1200],\n",
    "             ['Stuart Sutcliffe', '0182672838', 1800],\n",
    "             ['', '0978628282', 150]]"
   ]
  },
  {
   "cell_type": "code",
   "execution_count": 4,
   "metadata": {},
   "outputs": [],
   "source": [
    "def fix_nothing(employees):\n",
    "    pass\n",
    "def fix_employees(employees, fix_names=fix_nothing, \n",
    "                  fix_phones=fix_nothing, fix_salaries=fix_nothing):\n",
    "    fix_names(employees)\n",
    "    fix_phones(employees)\n",
    "    fix_salaries(employees)"
   ]
  },
  {
   "cell_type": "code",
   "execution_count": 5,
   "metadata": {},
   "outputs": [],
   "source": [
    "def print_employees(employees):\n",
    "    for employee in employees:\n",
    "        print('Name: {}, Phone: {}, Salary: {}'.format(employee[0], employee[1], employee[2]))"
   ]
  },
  {
   "cell_type": "code",
   "execution_count": 6,
   "metadata": {},
   "outputs": [],
   "source": [
    "def fix_empty_names(employees):\n",
    "    for employee in employees:\n",
    "        if employee[0] == '':\n",
    "            employee[0] = 'John Doe'"
   ]
  },
  {
   "cell_type": "code",
   "execution_count": 7,
   "metadata": {},
   "outputs": [
    {
     "name": "stdout",
     "output_type": "stream",
     "text": [
      "Name: John Lennon, Phone: 0978628282, Salary: 100\n",
      "Name: Paul McCartney, Phone: 097abc28282, Salary: 1000\n",
      "Name: Ringo Starr, Phone: 012372373, Salary: 550\n",
      "Name: George Harrison Harrison Harrison Harrison, Phone: 12276ab6e34, Salary: 10000\n",
      "Name: Pete Best, Phone: 0912772637, Salary: 1200\n",
      "Name: Stuart Sutcliffe, Phone: 0182672838, Salary: 1800\n",
      "Name: John Doe, Phone: 0978628282, Salary: 150\n"
     ]
    }
   ],
   "source": [
    "fix_employees(employees, fix_empty_names)\n",
    "print_employees(employees)"
   ]
  },
  {
   "cell_type": "code",
   "execution_count": null,
   "metadata": {},
   "outputs": [],
   "source": [
    "def fix_long_names(employees):\n",
    "    for employee in employees:\n",
    "        if len(employee[0]) > 20:\n",
    "            employee[0] = employee[0][:20]"
   ]
  }
 ],
 "metadata": {
  "interpreter": {
   "hash": "397704579725e15f5c7cb49fe5f0341eb7531c82d19f2c29d197e8b64ab5776b"
  },
  "kernelspec": {
   "display_name": "Python 3.9.1 64-bit",
   "language": "python",
   "name": "python3"
  },
  "language_info": {
   "codemirror_mode": {
    "name": "ipython",
    "version": 3
   },
   "file_extension": ".py",
   "mimetype": "text/x-python",
   "name": "python",
   "nbconvert_exporter": "python",
   "pygments_lexer": "ipython3",
   "version": "3.9.12"
  },
  "orig_nbformat": 4
 },
 "nbformat": 4,
 "nbformat_minor": 2
}
