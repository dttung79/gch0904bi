{
 "cells": [
  {
   "cell_type": "code",
   "execution_count": 1,
   "metadata": {},
   "outputs": [
    {
     "name": "stdout",
     "output_type": "stream",
     "text": [
      "Hello, world!\n"
     ]
    }
   ],
   "source": [
    "print('Hello, world!')"
   ]
  },
  {
   "cell_type": "code",
   "execution_count": 3,
   "metadata": {},
   "outputs": [
    {
     "name": "stdout",
     "output_type": "stream",
     "text": [
      "<class 'int'>\n",
      "<class 'str'>\n"
     ]
    }
   ],
   "source": [
    "a = 5 # type : integer\n",
    "print(type(a))\n",
    "a = '5' # type : string\n",
    "print(type(a))\n"
   ]
  },
  {
   "cell_type": "code",
   "execution_count": 4,
   "metadata": {},
   "outputs": [
    {
     "name": "stdout",
     "output_type": "stream",
     "text": [
      "Hello world\n"
     ]
    }
   ],
   "source": [
    "# input a string\n",
    "msg = input('Enter a message: ')\n",
    "print(msg)"
   ]
  },
  {
   "cell_type": "code",
   "execution_count": 5,
   "metadata": {},
   "outputs": [
    {
     "name": "stdout",
     "output_type": "stream",
     "text": [
      "555\n"
     ]
    }
   ],
   "source": [
    "# input an integer\n",
    "a = int(input('Enter an integer: '))\n",
    "print(a)"
   ]
  },
  {
   "cell_type": "code",
   "execution_count": 6,
   "metadata": {},
   "outputs": [
    {
     "name": "stdout",
     "output_type": "stream",
     "text": [
      "5.5\n"
     ]
    }
   ],
   "source": [
    "# input a float\n",
    "b = float(input('Enter a float: '))\n",
    "print(b)"
   ]
  },
  {
   "cell_type": "code",
   "execution_count": 9,
   "metadata": {},
   "outputs": [
    {
     "name": "stdout",
     "output_type": "stream",
     "text": [
      "Tung                     5\n"
     ]
    }
   ],
   "source": [
    "name = input('Enter your name: ')\n",
    "grade = int(input('Enter your grade: '))"
   ]
  },
  {
   "cell_type": "code",
   "execution_count": 10,
   "metadata": {},
   "outputs": [
    {
     "name": "stdout",
     "output_type": "stream",
     "text": [
      "|Tung           |         5|\n"
     ]
    }
   ],
   "source": [
    "# print name with 15 characters, grade with 10 characters\n",
    "print('|{:15}|{:10}|'.format(name, grade))"
   ]
  },
  {
   "cell_type": "code",
   "execution_count": 11,
   "metadata": {},
   "outputs": [
    {
     "name": "stdout",
     "output_type": "stream",
     "text": [
      "|     Tung      |5         |\n"
     ]
    }
   ],
   "source": [
    "# print name with 15 characters, center aligned, grade with 10 characters, left aligned\n",
    "print('|{:^15}|{:<10}|'.format(name, grade))"
   ]
  },
  {
   "cell_type": "code",
   "execution_count": null,
   "metadata": {},
   "outputs": [],
   "source": [
    "# Enter employee name, age, and salary\n",
    "# Print employee information in the following format:\n",
    "# +----------+--------+---------+\n",
    "# | Employee | Age    | Salary  |\n",
    "# +----------+--------+---------+\n",
    "# | John Doe | 30     | 1000.00 |\n",
    "# +----------+--------+---------+\n",
    "name = input('Enter employee name: ')\n",
    "age = int(input('Enter employee age: '))\n",
    "salary = float(input('Enter employee salary: '))\n",
    "\n"
   ]
  },
  {
   "cell_type": "code",
   "execution_count": 15,
   "metadata": {},
   "outputs": [
    {
     "name": "stdout",
     "output_type": "stream",
     "text": [
      "+---------------+----------+----------+\n",
      "|   Employee    |   Age    |  Salary  |\n",
      "+---------------+----------+----------+\n",
      "|   John Doe    |    30    |  1000.0  |\n",
      "+---------------+----------+----------+\n"
     ]
    }
   ],
   "source": [
    "# print header\n",
    "print('+' + '-'*15 + '+' + '-'*10 + '+' + '-'*10 + '+')\n",
    "print('|{:^15}|{:^10}|{:^10}|'.format('Employee', 'Age', 'Salary'))\n",
    "print('+' + '-'*15 + '+' + '-'*10 + '+' + '-'*10 + '+')\n",
    "# print employee information\n",
    "print('|{:^15}|{:^10}|{:^10}|'.format(name, age, salary))\n",
    "print('+' + '-'*15 + '+' + '-'*10 + '+' + '-'*10 + '+')"
   ]
  },
  {
   "cell_type": "code",
   "execution_count": null,
   "metadata": {},
   "outputs": [],
   "source": [
    "n = int(input('Enter a number: '))\n",
    "if n <= 0:\n",
    "    print('You must enter a positive number')"
   ]
  },
  {
   "cell_type": "code",
   "execution_count": 17,
   "metadata": {},
   "outputs": [
    {
     "name": "stdout",
     "output_type": "stream",
     "text": [
      "Merit\n"
     ]
    }
   ],
   "source": [
    "grade = int(input('Enter your grade: '))\n",
    "# categorize grade, distinction if >= 90, merit if >= 70 pass if >= 60, fail if < 60\n",
    "if grade >= 90:\n",
    "    print('Distinction')\n",
    "elif grade >= 70:\n",
    "    print('Merit')\n",
    "elif grade >= 60:\n",
    "    print('Pass')\n",
    "else:\n",
    "    print('Fail')"
   ]
  },
  {
   "cell_type": "code",
   "execution_count": 20,
   "metadata": {},
   "outputs": [
    {
     "name": "stdout",
     "output_type": "stream",
     "text": [
      "Friday\n"
     ]
    }
   ],
   "source": [
    "# Convert weekday number to weekday name\n",
    "weekday_number = int(input('Enter a weekday number: '))\n",
    "# check if invalid input, else print weekday name\n",
    "if weekday_number < 1 or weekday_number > 7:\n",
    "    print('Invalid weekday number')\n",
    "elif weekday_number == 1:\n",
    "    print('Sunday')\n",
    "elif weekday_number == 2:\n",
    "    print('Monday')\n",
    "elif weekday_number == 3:\n",
    "    print('Tuesday')\n",
    "elif weekday_number == 4:\n",
    "    print('Wednesday')\n",
    "elif weekday_number == 5:\n",
    "    print('Thursday')\n",
    "elif weekday_number == 6:\n",
    "    print('Friday')\n",
    "else:\n",
    "    print('Saturday')"
   ]
  },
  {
   "cell_type": "code",
   "execution_count": 21,
   "metadata": {},
   "outputs": [
    {
     "name": "stdout",
     "output_type": "stream",
     "text": [
      "Max is 8\n"
     ]
    }
   ],
   "source": [
    "a = int(input('Enter a: '))\n",
    "b = int(input('Enter b: '))\n",
    "if a > b:\n",
    "    print('Max is', a)\n",
    "else:\n",
    "    print('Max is', b)"
   ]
  },
  {
   "cell_type": "code",
   "execution_count": 22,
   "metadata": {},
   "outputs": [
    {
     "name": "stdout",
     "output_type": "stream",
     "text": [
      "Max is 8\n"
     ]
    }
   ],
   "source": [
    "maxab = a if a > b else b\n",
    "print('Max is', maxab)"
   ]
  },
  {
   "cell_type": "code",
   "execution_count": 23,
   "metadata": {},
   "outputs": [
    {
     "name": "stdout",
     "output_type": "stream",
     "text": [
      "Max is 8\n"
     ]
    }
   ],
   "source": [
    "print('Max is', a if a > b else b)"
   ]
  },
  {
   "cell_type": "code",
   "execution_count": 24,
   "metadata": {},
   "outputs": [
    {
     "name": "stdout",
     "output_type": "stream",
     "text": [
      "Merit\n"
     ]
    }
   ],
   "source": [
    "print('Fail' if grade < 60 else 'Pass' if grade < 70 else 'Merit' if grade < 90 else 'Distinction')"
   ]
  },
  {
   "cell_type": "code",
   "execution_count": null,
   "metadata": {},
   "outputs": [],
   "source": [
    "# Enter a positive number, if invalid input, print error message and enter again\n",
    "invalid = True\n",
    "while invalid:\n",
    "    n = int(input('Enter a positive number: '))\n",
    "    if n > 0:\n",
    "        invalid = False\n",
    "    else:\n",
    "        print('Invalid input')\n",
    "\n",
    "print(n)"
   ]
  },
  {
   "cell_type": "code",
   "execution_count": 26,
   "metadata": {},
   "outputs": [
    {
     "name": "stdout",
     "output_type": "stream",
     "text": [
      "Invalid input\n",
      "Invalid input\n",
      "888\n"
     ]
    }
   ],
   "source": [
    "invalid = True\n",
    "while invalid:\n",
    "    n = int(input('Enter a positive number: '))\n",
    "    invalid = n <= 0\n",
    "    print('Invalid input' if invalid else n)"
   ]
  },
  {
   "cell_type": "code",
   "execution_count": 28,
   "metadata": {},
   "outputs": [
    {
     "name": "stdout",
     "output_type": "stream",
     "text": [
      "Invalid input\n",
      "Invalid input\n",
      "Invalid input\n",
      "Input is valid\n",
      "Area is 6.0\n"
     ]
    }
   ],
   "source": [
    "# Enter 3 sides of a triangle, repeat if invalid input\n",
    "# then calculate and print the area of the triangle based on Heron's formula\n",
    "invalid = True\n",
    "while invalid:\n",
    "    a = int(input('Enter side a: '))\n",
    "    b = int(input('Enter side b: '))\n",
    "    c = int(input('Enter side c: '))\n",
    "    invalid = a*b*c <= 0 or a + b <= c or a + c <= b or b + c <= a\n",
    "    print('Invalid input' if invalid else 'Input is valid')\n",
    "\n",
    "p = (a + b + c) / 2\n",
    "s = (p * (p - a) * (p - b) * (p - c)) ** 0.5\n",
    "print('Area is', s)"
   ]
  },
  {
   "cell_type": "code",
   "execution_count": null,
   "metadata": {},
   "outputs": [],
   "source": [
    "# Auto vending machine problem\n",
    "# Print menu of drinks\n",
    "# User choose a drink then print the price of the drink\n",
    "# User enter payment amount, if not enough, print error message and repeat\n",
    "# If enough, print change and thank you message"
   ]
  },
  {
   "cell_type": "code",
   "execution_count": 29,
   "metadata": {},
   "outputs": [],
   "source": [
    "PEPSI = 1\n",
    "COFFEE = 2\n",
    "LEMONADE = 3\n",
    "PEPSI_PRICE = 10000\n",
    "COFFEE_PRICE = 20000\n",
    "LEMONADE_PRICE = 15000"
   ]
  },
  {
   "cell_type": "code",
   "execution_count": 30,
   "metadata": {},
   "outputs": [
    {
     "name": "stdout",
     "output_type": "stream",
     "text": [
      "Automatic Vending Machine\n",
      "1. Pepsi\n",
      "2. Coffee\n",
      "3. Lemonade\n"
     ]
    },
    {
     "ename": "KeyboardInterrupt",
     "evalue": "Interrupted by user",
     "output_type": "error",
     "traceback": [
      "\u001b[0;31m---------------------------------------------------------------------------\u001b[0m",
      "\u001b[0;31mKeyboardInterrupt\u001b[0m                         Traceback (most recent call last)",
      "\u001b[1;32m/Volumes/GoogleDrive/My Drive/FPTU/Program - F2G new/Unit 14 - Business Intelligence/GCH0904/Demo/gch0904bi/Day1.ipynb Cell 23'\u001b[0m in \u001b[0;36m<cell line: 2>\u001b[0;34m()\u001b[0m\n\u001b[1;32m      <a href='vscode-notebook-cell:/Volumes/GoogleDrive/My%20Drive/FPTU/Program%20-%20F2G%20new/Unit%2014%20-%20Business%20Intelligence/GCH0904/Demo/gch0904bi/Day1.ipynb#ch0000022?line=4'>5</a>\u001b[0m \u001b[39mprint\u001b[39m(\u001b[39m'\u001b[39m\u001b[39m2. Coffee\u001b[39m\u001b[39m'\u001b[39m)\n\u001b[1;32m      <a href='vscode-notebook-cell:/Volumes/GoogleDrive/My%20Drive/FPTU/Program%20-%20F2G%20new/Unit%2014%20-%20Business%20Intelligence/GCH0904/Demo/gch0904bi/Day1.ipynb#ch0000022?line=5'>6</a>\u001b[0m \u001b[39mprint\u001b[39m(\u001b[39m'\u001b[39m\u001b[39m3. Lemonade\u001b[39m\u001b[39m'\u001b[39m)\n\u001b[0;32m----> <a href='vscode-notebook-cell:/Volumes/GoogleDrive/My%20Drive/FPTU/Program%20-%20F2G%20new/Unit%2014%20-%20Business%20Intelligence/GCH0904/Demo/gch0904bi/Day1.ipynb#ch0000022?line=6'>7</a>\u001b[0m choice \u001b[39m=\u001b[39m \u001b[39mint\u001b[39m(\u001b[39minput\u001b[39;49m(\u001b[39m'\u001b[39;49m\u001b[39mEnter your choice: \u001b[39;49m\u001b[39m'\u001b[39;49m))\n\u001b[1;32m      <a href='vscode-notebook-cell:/Volumes/GoogleDrive/My%20Drive/FPTU/Program%20-%20F2G%20new/Unit%2014%20-%20Business%20Intelligence/GCH0904/Demo/gch0904bi/Day1.ipynb#ch0000022?line=7'>8</a>\u001b[0m \u001b[39mif\u001b[39;00m choice \u001b[39m!=\u001b[39m PEPSI \u001b[39mand\u001b[39;00m choice \u001b[39m!=\u001b[39m COFFEE \u001b[39mand\u001b[39;00m choice \u001b[39m!=\u001b[39m LEMONADE:\n\u001b[1;32m      <a href='vscode-notebook-cell:/Volumes/GoogleDrive/My%20Drive/FPTU/Program%20-%20F2G%20new/Unit%2014%20-%20Business%20Intelligence/GCH0904/Demo/gch0904bi/Day1.ipynb#ch0000022?line=8'>9</a>\u001b[0m     \u001b[39mprint\u001b[39m(\u001b[39m'\u001b[39m\u001b[39mInvalid choice\u001b[39m\u001b[39m'\u001b[39m)\n",
      "File \u001b[0;32m/usr/local/lib/python3.9/site-packages/ipykernel/kernelbase.py:1161\u001b[0m, in \u001b[0;36mKernel.raw_input\u001b[0;34m(self, prompt)\u001b[0m\n\u001b[1;32m   <a href='file:///usr/local/lib/python3.9/site-packages/ipykernel/kernelbase.py?line=1156'>1157</a>\u001b[0m \u001b[39mif\u001b[39;00m \u001b[39mnot\u001b[39;00m \u001b[39mself\u001b[39m\u001b[39m.\u001b[39m_allow_stdin:\n\u001b[1;32m   <a href='file:///usr/local/lib/python3.9/site-packages/ipykernel/kernelbase.py?line=1157'>1158</a>\u001b[0m     \u001b[39mraise\u001b[39;00m StdinNotImplementedError(\n\u001b[1;32m   <a href='file:///usr/local/lib/python3.9/site-packages/ipykernel/kernelbase.py?line=1158'>1159</a>\u001b[0m         \u001b[39m\"\u001b[39m\u001b[39mraw_input was called, but this frontend does not support input requests.\u001b[39m\u001b[39m\"\u001b[39m\n\u001b[1;32m   <a href='file:///usr/local/lib/python3.9/site-packages/ipykernel/kernelbase.py?line=1159'>1160</a>\u001b[0m     )\n\u001b[0;32m-> <a href='file:///usr/local/lib/python3.9/site-packages/ipykernel/kernelbase.py?line=1160'>1161</a>\u001b[0m \u001b[39mreturn\u001b[39;00m \u001b[39mself\u001b[39;49m\u001b[39m.\u001b[39;49m_input_request(\n\u001b[1;32m   <a href='file:///usr/local/lib/python3.9/site-packages/ipykernel/kernelbase.py?line=1161'>1162</a>\u001b[0m     \u001b[39mstr\u001b[39;49m(prompt),\n\u001b[1;32m   <a href='file:///usr/local/lib/python3.9/site-packages/ipykernel/kernelbase.py?line=1162'>1163</a>\u001b[0m     \u001b[39mself\u001b[39;49m\u001b[39m.\u001b[39;49m_parent_ident[\u001b[39m\"\u001b[39;49m\u001b[39mshell\u001b[39;49m\u001b[39m\"\u001b[39;49m],\n\u001b[1;32m   <a href='file:///usr/local/lib/python3.9/site-packages/ipykernel/kernelbase.py?line=1163'>1164</a>\u001b[0m     \u001b[39mself\u001b[39;49m\u001b[39m.\u001b[39;49mget_parent(\u001b[39m\"\u001b[39;49m\u001b[39mshell\u001b[39;49m\u001b[39m\"\u001b[39;49m),\n\u001b[1;32m   <a href='file:///usr/local/lib/python3.9/site-packages/ipykernel/kernelbase.py?line=1164'>1165</a>\u001b[0m     password\u001b[39m=\u001b[39;49m\u001b[39mFalse\u001b[39;49;00m,\n\u001b[1;32m   <a href='file:///usr/local/lib/python3.9/site-packages/ipykernel/kernelbase.py?line=1165'>1166</a>\u001b[0m )\n",
      "File \u001b[0;32m/usr/local/lib/python3.9/site-packages/ipykernel/kernelbase.py:1205\u001b[0m, in \u001b[0;36mKernel._input_request\u001b[0;34m(self, prompt, ident, parent, password)\u001b[0m\n\u001b[1;32m   <a href='file:///usr/local/lib/python3.9/site-packages/ipykernel/kernelbase.py?line=1201'>1202</a>\u001b[0m             \u001b[39mbreak\u001b[39;00m\n\u001b[1;32m   <a href='file:///usr/local/lib/python3.9/site-packages/ipykernel/kernelbase.py?line=1202'>1203</a>\u001b[0m \u001b[39mexcept\u001b[39;00m \u001b[39mKeyboardInterrupt\u001b[39;00m:\n\u001b[1;32m   <a href='file:///usr/local/lib/python3.9/site-packages/ipykernel/kernelbase.py?line=1203'>1204</a>\u001b[0m     \u001b[39m# re-raise KeyboardInterrupt, to truncate traceback\u001b[39;00m\n\u001b[0;32m-> <a href='file:///usr/local/lib/python3.9/site-packages/ipykernel/kernelbase.py?line=1204'>1205</a>\u001b[0m     \u001b[39mraise\u001b[39;00m \u001b[39mKeyboardInterrupt\u001b[39;00m(\u001b[39m\"\u001b[39m\u001b[39mInterrupted by user\u001b[39m\u001b[39m\"\u001b[39m) \u001b[39mfrom\u001b[39;00m \u001b[39mNone\u001b[39m\n\u001b[1;32m   <a href='file:///usr/local/lib/python3.9/site-packages/ipykernel/kernelbase.py?line=1205'>1206</a>\u001b[0m \u001b[39mexcept\u001b[39;00m \u001b[39mException\u001b[39;00m:\n\u001b[1;32m   <a href='file:///usr/local/lib/python3.9/site-packages/ipykernel/kernelbase.py?line=1206'>1207</a>\u001b[0m     \u001b[39mself\u001b[39m\u001b[39m.\u001b[39mlog\u001b[39m.\u001b[39mwarning(\u001b[39m\"\u001b[39m\u001b[39mInvalid Message:\u001b[39m\u001b[39m\"\u001b[39m, exc_info\u001b[39m=\u001b[39m\u001b[39mTrue\u001b[39;00m)\n",
      "\u001b[0;31mKeyboardInterrupt\u001b[0m: Interrupted by user"
     ]
    }
   ],
   "source": [
    "running = True\n",
    "while running:\n",
    "    print('Automatic Vending Machine')\n",
    "    print('1. Pepsi')\n",
    "    print('2. Coffee')\n",
    "    print('3. Lemonade')\n",
    "    choice = int(input('Enter your choice: '))\n",
    "    if choice != PEPSI and choice != COFFEE and choice != LEMONADE:\n",
    "        print('Invalid choice')\n",
    "    elif choice == PEPSI:\n",
    "        payment = PEPSI_PRICE\n",
    "    elif choice == COFFEE:\n",
    "        payment = COFFEE_PRICE\n",
    "    else:\n",
    "        payment = LEMONADE_PRICE\n",
    "    print('Price is', payment)\n",
    "    invalid_payment = True \n",
    "    while invalid_payment:\n",
    "        amount = int(input('Enter payment amount: '))\n",
    "        invalid_payment = amount < payment\n",
    "        if invalid_payment:\n",
    "            print('Invalid payment')\n",
    "        else:\n",
    "            change = amount - payment\n",
    "            print('Change is', change)\n",
    "        "
   ]
  }
 ],
 "metadata": {
  "interpreter": {
   "hash": "aee8b7b246df8f9039afb4144a1f6fd8d2ca17a180786b69acc140d282b71a49"
  },
  "kernelspec": {
   "display_name": "Python 3.9.12 64-bit",
   "language": "python",
   "name": "python3"
  },
  "language_info": {
   "codemirror_mode": {
    "name": "ipython",
    "version": 3
   },
   "file_extension": ".py",
   "mimetype": "text/x-python",
   "name": "python",
   "nbconvert_exporter": "python",
   "pygments_lexer": "ipython3",
   "version": "3.9.12"
  },
  "orig_nbformat": 4
 },
 "nbformat": 4,
 "nbformat_minor": 2
}
