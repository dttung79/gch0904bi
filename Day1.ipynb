{
 "cells": [
  {
   "cell_type": "code",
   "execution_count": 1,
   "metadata": {},
   "outputs": [
    {
     "name": "stdout",
     "output_type": "stream",
     "text": [
      "Hello, world!\n"
     ]
    }
   ],
   "source": [
    "print('Hello, world!')"
   ]
  },
  {
   "cell_type": "code",
   "execution_count": 3,
   "metadata": {},
   "outputs": [
    {
     "name": "stdout",
     "output_type": "stream",
     "text": [
      "<class 'int'>\n",
      "<class 'str'>\n"
     ]
    }
   ],
   "source": [
    "a = 5 # type : integer\n",
    "print(type(a))\n",
    "a = '5' # type : string\n",
    "print(type(a))\n"
   ]
  },
  {
   "cell_type": "code",
   "execution_count": 4,
   "metadata": {},
   "outputs": [
    {
     "name": "stdout",
     "output_type": "stream",
     "text": [
      "Hello world\n"
     ]
    }
   ],
   "source": [
    "# input a string\n",
    "msg = input('Enter a message: ')\n",
    "print(msg)"
   ]
  },
  {
   "cell_type": "code",
   "execution_count": 5,
   "metadata": {},
   "outputs": [
    {
     "name": "stdout",
     "output_type": "stream",
     "text": [
      "555\n"
     ]
    }
   ],
   "source": [
    "# input an integer\n",
    "a = int(input('Enter an integer: '))\n",
    "print(a)"
   ]
  },
  {
   "cell_type": "code",
   "execution_count": 6,
   "metadata": {},
   "outputs": [
    {
     "name": "stdout",
     "output_type": "stream",
     "text": [
      "5.5\n"
     ]
    }
   ],
   "source": [
    "# input a float\n",
    "b = float(input('Enter a float: '))\n",
    "print(b)"
   ]
  },
  {
   "cell_type": "code",
   "execution_count": 9,
   "metadata": {},
   "outputs": [
    {
     "name": "stdout",
     "output_type": "stream",
     "text": [
      "Tung                     5\n"
     ]
    }
   ],
   "source": [
    "name = input('Enter your name: ')\n",
    "grade = int(input('Enter your grade: '))"
   ]
  },
  {
   "cell_type": "code",
   "execution_count": 10,
   "metadata": {},
   "outputs": [
    {
     "name": "stdout",
     "output_type": "stream",
     "text": [
      "|Tung           |         5|\n"
     ]
    }
   ],
   "source": [
    "# print name with 15 characters, grade with 10 characters\n",
    "print('|{:15}|{:10}|'.format(name, grade))"
   ]
  },
  {
   "cell_type": "code",
   "execution_count": 11,
   "metadata": {},
   "outputs": [
    {
     "name": "stdout",
     "output_type": "stream",
     "text": [
      "|     Tung      |5         |\n"
     ]
    }
   ],
   "source": [
    "# print name with 15 characters, center aligned, grade with 10 characters, left aligned\n",
    "print('|{:^15}|{:<10}|'.format(name, grade))"
   ]
  },
  {
   "cell_type": "code",
   "execution_count": null,
   "metadata": {},
   "outputs": [],
   "source": [
    "# Enter employee name, age, and salary\n",
    "# Print employee information in the following format:\n",
    "# +----------+--------+---------+\n",
    "# | Employee | Age    | Salary  |\n",
    "# +----------+--------+---------+\n",
    "# | John Doe | 30     | 1000.00 |\n",
    "# +----------+--------+---------+\n",
    "name = input('Enter employee name: ')\n",
    "age = int(input('Enter employee age: '))\n",
    "salary = float(input('Enter employee salary: '))\n",
    "\n"
   ]
  },
  {
   "cell_type": "code",
   "execution_count": 15,
   "metadata": {},
   "outputs": [
    {
     "name": "stdout",
     "output_type": "stream",
     "text": [
      "+---------------+----------+----------+\n",
      "|   Employee    |   Age    |  Salary  |\n",
      "+---------------+----------+----------+\n",
      "|   John Doe    |    30    |  1000.0  |\n",
      "+---------------+----------+----------+\n"
     ]
    }
   ],
   "source": [
    "# print header\n",
    "print('+' + '-'*15 + '+' + '-'*10 + '+' + '-'*10 + '+')\n",
    "print('|{:^15}|{:^10}|{:^10}|'.format('Employee', 'Age', 'Salary'))\n",
    "print('+' + '-'*15 + '+' + '-'*10 + '+' + '-'*10 + '+')\n",
    "# print employee information\n",
    "print('|{:^15}|{:^10}|{:^10}|'.format(name, age, salary))\n",
    "print('+' + '-'*15 + '+' + '-'*10 + '+' + '-'*10 + '+')"
   ]
  }
 ],
 "metadata": {
  "interpreter": {
   "hash": "aee8b7b246df8f9039afb4144a1f6fd8d2ca17a180786b69acc140d282b71a49"
  },
  "kernelspec": {
   "display_name": "Python 3.9.12 64-bit",
   "language": "python",
   "name": "python3"
  },
  "language_info": {
   "codemirror_mode": {
    "name": "ipython",
    "version": 3
   },
   "file_extension": ".py",
   "mimetype": "text/x-python",
   "name": "python",
   "nbconvert_exporter": "python",
   "pygments_lexer": "ipython3",
   "version": "3.9.12"
  },
  "orig_nbformat": 4
 },
 "nbformat": 4,
 "nbformat_minor": 2
}
