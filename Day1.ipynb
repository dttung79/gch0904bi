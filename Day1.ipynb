{
 "cells": [
  {
   "cell_type": "code",
   "execution_count": 1,
   "metadata": {},
   "outputs": [
    {
     "name": "stdout",
     "output_type": "stream",
     "text": [
      "Hello, world!\n"
     ]
    }
   ],
   "source": [
    "print('Hello, world!')"
   ]
  },
  {
   "cell_type": "code",
   "execution_count": 3,
   "metadata": {},
   "outputs": [
    {
     "name": "stdout",
     "output_type": "stream",
     "text": [
      "<class 'int'>\n",
      "<class 'str'>\n"
     ]
    }
   ],
   "source": [
    "a = 5 # type : integer\n",
    "print(type(a))\n",
    "a = '5' # type : string\n",
    "print(type(a))\n"
   ]
  },
  {
   "cell_type": "code",
   "execution_count": 4,
   "metadata": {},
   "outputs": [
    {
     "name": "stdout",
     "output_type": "stream",
     "text": [
      "Hello world\n"
     ]
    }
   ],
   "source": [
    "# input a string\n",
    "msg = input('Enter a message: ')\n",
    "print(msg)"
   ]
  },
  {
   "cell_type": "code",
   "execution_count": 5,
   "metadata": {},
   "outputs": [
    {
     "name": "stdout",
     "output_type": "stream",
     "text": [
      "555\n"
     ]
    }
   ],
   "source": [
    "# input an integer\n",
    "a = int(input('Enter an integer: '))\n",
    "print(a)"
   ]
  },
  {
   "cell_type": "code",
   "execution_count": 6,
   "metadata": {},
   "outputs": [
    {
     "name": "stdout",
     "output_type": "stream",
     "text": [
      "5.5\n"
     ]
    }
   ],
   "source": [
    "# input a float\n",
    "b = float(input('Enter a float: '))\n",
    "print(b)"
   ]
  },
  {
   "cell_type": "code",
   "execution_count": 9,
   "metadata": {},
   "outputs": [
    {
     "name": "stdout",
     "output_type": "stream",
     "text": [
      "Tung                     5\n"
     ]
    }
   ],
   "source": [
    "name = input('Enter your name: ')\n",
    "grade = int(input('Enter your grade: '))"
   ]
  },
  {
   "cell_type": "code",
   "execution_count": 10,
   "metadata": {},
   "outputs": [
    {
     "name": "stdout",
     "output_type": "stream",
     "text": [
      "|Tung           |         5|\n"
     ]
    }
   ],
   "source": [
    "# print name with 15 characters, grade with 10 characters\n",
    "print('|{:15}|{:10}|'.format(name, grade))"
   ]
  },
  {
   "cell_type": "code",
   "execution_count": 11,
   "metadata": {},
   "outputs": [
    {
     "name": "stdout",
     "output_type": "stream",
     "text": [
      "|     Tung      |5         |\n"
     ]
    }
   ],
   "source": [
    "# print name with 15 characters, center aligned, grade with 10 characters, left aligned\n",
    "print('|{:^15}|{:<10}|'.format(name, grade))"
   ]
  },
  {
   "cell_type": "code",
   "execution_count": null,
   "metadata": {},
   "outputs": [],
   "source": [
    "# Enter employee name, age, and salary\n",
    "# Print employee information in the following format:\n",
    "# +----------+--------+---------+\n",
    "# | Employee | Age    | Salary  |\n",
    "# +----------+--------+---------+\n",
    "# | John Doe | 30     | 1000.00 |\n",
    "# +----------+--------+---------+\n",
    "name = input('Enter employee name: ')\n",
    "age = int(input('Enter employee age: '))\n",
    "salary = float(input('Enter employee salary: '))\n",
    "\n"
   ]
  },
  {
   "cell_type": "code",
   "execution_count": 15,
   "metadata": {},
   "outputs": [
    {
     "name": "stdout",
     "output_type": "stream",
     "text": [
      "+---------------+----------+----------+\n",
      "|   Employee    |   Age    |  Salary  |\n",
      "+---------------+----------+----------+\n",
      "|   John Doe    |    30    |  1000.0  |\n",
      "+---------------+----------+----------+\n"
     ]
    }
   ],
   "source": [
    "# print header\n",
    "print('+' + '-'*15 + '+' + '-'*10 + '+' + '-'*10 + '+')\n",
    "print('|{:^15}|{:^10}|{:^10}|'.format('Employee', 'Age', 'Salary'))\n",
    "print('+' + '-'*15 + '+' + '-'*10 + '+' + '-'*10 + '+')\n",
    "# print employee information\n",
    "print('|{:^15}|{:^10}|{:^10}|'.format(name, age, salary))\n",
    "print('+' + '-'*15 + '+' + '-'*10 + '+' + '-'*10 + '+')"
   ]
  },
  {
   "cell_type": "code",
   "execution_count": null,
   "metadata": {},
   "outputs": [],
   "source": [
    "n = int(input('Enter a number: '))\n",
    "if n <= 0:\n",
    "    print('You must enter a positive number')"
   ]
  },
  {
   "cell_type": "code",
   "execution_count": 17,
   "metadata": {},
   "outputs": [
    {
     "name": "stdout",
     "output_type": "stream",
     "text": [
      "Merit\n"
     ]
    }
   ],
   "source": [
    "grade = int(input('Enter your grade: '))\n",
    "# categorize grade, distinction if >= 90, merit if >= 70 pass if >= 60, fail if < 60\n",
    "if grade >= 90:\n",
    "    print('Distinction')\n",
    "elif grade >= 70:\n",
    "    print('Merit')\n",
    "elif grade >= 60:\n",
    "    print('Pass')\n",
    "else:\n",
    "    print('Fail')"
   ]
  },
  {
   "cell_type": "code",
   "execution_count": 20,
   "metadata": {},
   "outputs": [
    {
     "name": "stdout",
     "output_type": "stream",
     "text": [
      "Friday\n"
     ]
    }
   ],
   "source": [
    "# Convert weekday number to weekday name\n",
    "weekday_number = int(input('Enter a weekday number: '))\n",
    "# check if invalid input, else print weekday name\n",
    "if weekday_number < 1 or weekday_number > 7:\n",
    "    print('Invalid weekday number')\n",
    "elif weekday_number == 1:\n",
    "    print('Sunday')\n",
    "elif weekday_number == 2:\n",
    "    print('Monday')\n",
    "elif weekday_number == 3:\n",
    "    print('Tuesday')\n",
    "elif weekday_number == 4:\n",
    "    print('Wednesday')\n",
    "elif weekday_number == 5:\n",
    "    print('Thursday')\n",
    "elif weekday_number == 6:\n",
    "    print('Friday')\n",
    "else:\n",
    "    print('Saturday')"
   ]
  },
  {
   "cell_type": "code",
   "execution_count": 21,
   "metadata": {},
   "outputs": [
    {
     "name": "stdout",
     "output_type": "stream",
     "text": [
      "Max is 8\n"
     ]
    }
   ],
   "source": [
    "a = int(input('Enter a: '))\n",
    "b = int(input('Enter b: '))\n",
    "if a > b:\n",
    "    print('Max is', a)\n",
    "else:\n",
    "    print('Max is', b)"
   ]
  },
  {
   "cell_type": "code",
   "execution_count": 22,
   "metadata": {},
   "outputs": [
    {
     "name": "stdout",
     "output_type": "stream",
     "text": [
      "Max is 8\n"
     ]
    }
   ],
   "source": [
    "maxab = a if a > b else b\n",
    "print('Max is', maxab)"
   ]
  },
  {
   "cell_type": "code",
   "execution_count": 23,
   "metadata": {},
   "outputs": [
    {
     "name": "stdout",
     "output_type": "stream",
     "text": [
      "Max is 8\n"
     ]
    }
   ],
   "source": [
    "print('Max is', a if a > b else b)"
   ]
  },
  {
   "cell_type": "code",
   "execution_count": 24,
   "metadata": {},
   "outputs": [
    {
     "name": "stdout",
     "output_type": "stream",
     "text": [
      "Merit\n"
     ]
    }
   ],
   "source": [
    "print('Fail' if grade < 60 else 'Pass' if grade < 70 else 'Merit' if grade < 90 else 'Distinction')"
   ]
  },
  {
   "cell_type": "code",
   "execution_count": null,
   "metadata": {},
   "outputs": [],
   "source": [
    "# Enter a positive number, if invalid input, print error message and enter again\n",
    "invalid = True\n",
    "while invalid:\n",
    "    n = int(input('Enter a positive number: '))\n",
    "    if n > 0:\n",
    "        invalid = False\n",
    "    else:\n",
    "        print('Invalid input')\n",
    "\n",
    "print(n)"
   ]
  },
  {
   "cell_type": "code",
   "execution_count": 26,
   "metadata": {},
   "outputs": [
    {
     "name": "stdout",
     "output_type": "stream",
     "text": [
      "Invalid input\n",
      "Invalid input\n",
      "888\n"
     ]
    }
   ],
   "source": [
    "invalid = True\n",
    "while invalid:\n",
    "    n = int(input('Enter a positive number: '))\n",
    "    invalid = n <= 0\n",
    "    print('Invalid input' if invalid else n)"
   ]
  },
  {
   "cell_type": "code",
   "execution_count": 28,
   "metadata": {},
   "outputs": [
    {
     "name": "stdout",
     "output_type": "stream",
     "text": [
      "Invalid input\n",
      "Invalid input\n",
      "Invalid input\n",
      "Input is valid\n",
      "Area is 6.0\n"
     ]
    }
   ],
   "source": [
    "# Enter 3 sides of a triangle, repeat if invalid input\n",
    "# then calculate and print the area of the triangle based on Heron's formula\n",
    "invalid = True\n",
    "while invalid:\n",
    "    a = int(input('Enter side a: '))\n",
    "    b = int(input('Enter side b: '))\n",
    "    c = int(input('Enter side c: '))\n",
    "    invalid = a*b*c <= 0 or a + b <= c or a + c <= b or b + c <= a\n",
    "    print('Invalid input' if invalid else 'Input is valid')\n",
    "\n",
    "p = (a + b + c) / 2\n",
    "s = (p * (p - a) * (p - b) * (p - c)) ** 0.5\n",
    "print('Area is', s)"
   ]
  },
  {
   "cell_type": "code",
   "execution_count": null,
   "metadata": {},
   "outputs": [],
   "source": [
    "# Auto vending machine problem\n",
    "# Print menu of drinks\n",
    "# User choose a drink then print the price of the drink\n",
    "# User enter payment amount, if not enough, print error message and repeat\n",
    "# If enough, print change and thank you message"
   ]
  },
  {
   "cell_type": "code",
   "execution_count": 29,
   "metadata": {},
   "outputs": [],
   "source": [
    "PEPSI = 1\n",
    "COFFEE = 2\n",
    "LEMONADE = 3\n",
    "PEPSI_PRICE = 10000\n",
    "COFFEE_PRICE = 20000\n",
    "LEMONADE_PRICE = 15000"
   ]
  },
  {
   "cell_type": "code",
   "execution_count": null,
   "metadata": {},
   "outputs": [],
   "source": [
    "running = True\n",
    "while running:\n",
    "    print('Automatic Vending Machine')\n",
    "    print('1. Pepsi')\n",
    "    print('2. Coffee')\n",
    "    print('3. Lemonade')\n",
    "    choice = int(input('Enter your choice: '))\n",
    "    if choice != PEPSI and choice != COFFEE and choice != LEMONADE:\n",
    "        print('Invalid choice')\n",
    "    elif choice == PEPSI:\n",
    "        payment = PEPSI_PRICE\n",
    "    elif choice == COFFEE:\n",
    "        payment = COFFEE_PRICE\n",
    "    else:\n",
    "        payment = LEMONADE_PRICE\n",
    "    print('Price is', payment)\n",
    "    invalid_payment = True \n",
    "    while invalid_payment:\n",
    "        amount = int(input('Enter payment amount: '))\n",
    "        invalid_payment = amount < payment\n",
    "        if invalid_payment:\n",
    "            print('Invalid payment')\n",
    "        else:\n",
    "            change = amount - payment\n",
    "            print('Change is', change)\n",
    "        "
   ]
  }
 ],
 "metadata": {
  "interpreter": {
   "hash": "aee8b7b246df8f9039afb4144a1f6fd8d2ca17a180786b69acc140d282b71a49"
  },
  "kernelspec": {
   "display_name": "Python 3.9.12 64-bit",
   "language": "python",
   "name": "python3"
  },
  "language_info": {
   "codemirror_mode": {
    "name": "ipython",
    "version": 3
   },
   "file_extension": ".py",
   "mimetype": "text/x-python",
   "name": "python",
   "nbconvert_exporter": "python",
   "pygments_lexer": "ipython3",
   "version": "3.9.12"
  },
  "orig_nbformat": 4
 },
 "nbformat": 4,
 "nbformat_minor": 2
}
